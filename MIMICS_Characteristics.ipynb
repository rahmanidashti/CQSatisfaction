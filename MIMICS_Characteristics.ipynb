{
  "nbformat": 4,
  "nbformat_minor": 0,
  "metadata": {
    "colab": {
      "provenance": [],
      "collapsed_sections": [
        "ILQk_GWVEomi",
        "ufMZnAupEm03",
        "EU1NprGn09km",
        "azyO1gxSRLXt",
        "eg-r3ZgyDNzr",
        "EBgEECuDxfgA",
        "9A-LqOchXBS4",
        "LLj7p3ItruOm"
      ],
      "authorship_tag": "ABX9TyN20vmqneERjYc0q/59Cq3l",
      "include_colab_link": true
    },
    "kernelspec": {
      "name": "python3",
      "display_name": "Python 3"
    },
    "language_info": {
      "name": "python"
    }
  },
  "cells": [
    {
      "cell_type": "markdown",
      "metadata": {
        "id": "view-in-github",
        "colab_type": "text"
      },
      "source": [
        "<a href=\"https://colab.research.google.com/github/rahmanidashti/CQSatisfaction/blob/main/MIMICS_Characteristics.ipynb\" target=\"_parent\"><img src=\"https://colab.research.google.com/assets/colab-badge.svg\" alt=\"Open In Colab\"/></a>"
      ]
    },
    {
      "cell_type": "markdown",
      "source": [
        "# Analysis"
      ],
      "metadata": {
        "id": "IvklLH8E2XpP"
      }
    },
    {
      "cell_type": "markdown",
      "source": [
        "## Install and Import"
      ],
      "metadata": {
        "id": "iaAIojWbQJZe"
      }
    },
    {
      "cell_type": "code",
      "source": [
        "! pip install rouge"
      ],
      "metadata": {
        "colab": {
          "base_uri": "https://localhost:8080/"
        },
        "id": "3lUvYMkKLxub",
        "outputId": "d7231074-5b89-45a0-807a-52d7885f77ed"
      },
      "execution_count": null,
      "outputs": [
        {
          "output_type": "stream",
          "name": "stdout",
          "text": [
            "Looking in indexes: https://pypi.org/simple, https://us-python.pkg.dev/colab-wheels/public/simple/\n",
            "Collecting rouge\n",
            "  Downloading rouge-1.0.1-py3-none-any.whl (13 kB)\n",
            "Requirement already satisfied: six in /usr/local/lib/python3.10/dist-packages (from rouge) (1.16.0)\n",
            "Installing collected packages: rouge\n",
            "Successfully installed rouge-1.0.1\n"
          ]
        }
      ]
    },
    {
      "cell_type": "code",
      "source": [
        "# import\n",
        "import re\n",
        "import copy\n",
        "import pandas as pd\n",
        "from rouge import Rouge\n",
        "from tqdm import tqdm\n",
        "import numpy as np\n",
        "from scipy import stats\n",
        "from textblob import TextBlob\n",
        "import collections\n",
        "import random\n",
        "import math\n",
        "import matplotlib.pyplot as plt\n",
        "import seaborn as sns\n",
        "sns.set_theme()"
      ],
      "metadata": {
        "id": "Na3sXvQg2Nsn"
      },
      "execution_count": null,
      "outputs": []
    },
    {
      "cell_type": "markdown",
      "source": [
        "## Data Loading"
      ],
      "metadata": {
        "id": "i5ceSPyUC_Vw"
      }
    },
    {
      "cell_type": "code",
      "execution_count": null,
      "metadata": {
        "id": "CsaXgQ5y2EAM"
      },
      "outputs": [],
      "source": [
        "DATASET = \"MIMICS\"\n",
        "# load dataset in a pandas dataframe\n",
        "if DATASET == \"MIMICS\":\n",
        "  dataset_df = pd.read_csv(f\"https://raw.githubusercontent.com/microsoft/MIMICS/master/data/MIMICS-Manual.tsv\", sep='\\t')\n",
        "elif DATASET == \"MIMICS-Duo\":\n",
        "  dataset_df = pd.read_csv(f\"https://raw.githubusercontent.com/Leila-Ta/MIMICS-Duo/main/Data/Task2-QualityLabelling.tsv\", sep='\\t')"
      ]
    },
    {
      "cell_type": "code",
      "source": [
        "if DATASET == \"MIMICS-Duo\":\n",
        "    target = 'OverallClarificationPaneQuality'\n",
        "    dataset_df.loc[dataset_df[target] == 2, target] = 1\n",
        "    dataset_df.loc[dataset_df[target] == 3, target] = 2\n",
        "    dataset_df.loc[dataset_df[target] == 4, target] = 3\n",
        "    dataset_df.loc[dataset_df[target] == 5, target] = 3"
      ],
      "metadata": {
        "id": "jAjVgf-RfSw-"
      },
      "execution_count": null,
      "outputs": []
    },
    {
      "cell_type": "markdown",
      "source": [
        "> Labels in MIMICS-Manual: 2 (Good), 1 (Fair), or 0 (Bad)"
      ],
      "metadata": {
        "id": "2VlkBsy9GJRz"
      }
    },
    {
      "cell_type": "code",
      "source": [
        "dataset_df.head(1)"
      ],
      "metadata": {
        "colab": {
          "base_uri": "https://localhost:8080/",
          "height": 159
        },
        "id": "nEboClMiMHLU",
        "outputId": "63bd289e-c1ed-47e9-f02f-35a9a83faf7d"
      },
      "execution_count": null,
      "outputs": [
        {
          "output_type": "execute_result",
          "data": {
            "text/plain": [
              "                   query                          question  \\\n",
              "0  caesars atlantic city  Select one to refine your search   \n",
              "\n",
              "                       option_1                    option_2  \\\n",
              "0  caesars atlantic city events  caesars atlantic city jobs   \n",
              "\n",
              "                        option_3 option_4 option_5  question_label  \\\n",
              "0  caesars atlantic city parking      NaN      NaN             NaN   \n",
              "\n",
              "   options_overall_label  option_label_1  option_label_2  option_label_3  \\\n",
              "0                      1               2               2             2.0   \n",
              "\n",
              "   option_label_4  option_label_5  \n",
              "0             NaN             NaN  "
            ],
            "text/html": [
              "\n",
              "  <div id=\"df-42448a0b-21fa-4cc4-889d-2de26c4dd7d5\">\n",
              "    <div class=\"colab-df-container\">\n",
              "      <div>\n",
              "<style scoped>\n",
              "    .dataframe tbody tr th:only-of-type {\n",
              "        vertical-align: middle;\n",
              "    }\n",
              "\n",
              "    .dataframe tbody tr th {\n",
              "        vertical-align: top;\n",
              "    }\n",
              "\n",
              "    .dataframe thead th {\n",
              "        text-align: right;\n",
              "    }\n",
              "</style>\n",
              "<table border=\"1\" class=\"dataframe\">\n",
              "  <thead>\n",
              "    <tr style=\"text-align: right;\">\n",
              "      <th></th>\n",
              "      <th>query</th>\n",
              "      <th>question</th>\n",
              "      <th>option_1</th>\n",
              "      <th>option_2</th>\n",
              "      <th>option_3</th>\n",
              "      <th>option_4</th>\n",
              "      <th>option_5</th>\n",
              "      <th>question_label</th>\n",
              "      <th>options_overall_label</th>\n",
              "      <th>option_label_1</th>\n",
              "      <th>option_label_2</th>\n",
              "      <th>option_label_3</th>\n",
              "      <th>option_label_4</th>\n",
              "      <th>option_label_5</th>\n",
              "    </tr>\n",
              "  </thead>\n",
              "  <tbody>\n",
              "    <tr>\n",
              "      <th>0</th>\n",
              "      <td>caesars atlantic city</td>\n",
              "      <td>Select one to refine your search</td>\n",
              "      <td>caesars atlantic city events</td>\n",
              "      <td>caesars atlantic city jobs</td>\n",
              "      <td>caesars atlantic city parking</td>\n",
              "      <td>NaN</td>\n",
              "      <td>NaN</td>\n",
              "      <td>NaN</td>\n",
              "      <td>1</td>\n",
              "      <td>2</td>\n",
              "      <td>2</td>\n",
              "      <td>2.0</td>\n",
              "      <td>NaN</td>\n",
              "      <td>NaN</td>\n",
              "    </tr>\n",
              "  </tbody>\n",
              "</table>\n",
              "</div>\n",
              "      <button class=\"colab-df-convert\" onclick=\"convertToInteractive('df-42448a0b-21fa-4cc4-889d-2de26c4dd7d5')\"\n",
              "              title=\"Convert this dataframe to an interactive table.\"\n",
              "              style=\"display:none;\">\n",
              "        \n",
              "  <svg xmlns=\"http://www.w3.org/2000/svg\" height=\"24px\"viewBox=\"0 0 24 24\"\n",
              "       width=\"24px\">\n",
              "    <path d=\"M0 0h24v24H0V0z\" fill=\"none\"/>\n",
              "    <path d=\"M18.56 5.44l.94 2.06.94-2.06 2.06-.94-2.06-.94-.94-2.06-.94 2.06-2.06.94zm-11 1L8.5 8.5l.94-2.06 2.06-.94-2.06-.94L8.5 2.5l-.94 2.06-2.06.94zm10 10l.94 2.06.94-2.06 2.06-.94-2.06-.94-.94-2.06-.94 2.06-2.06.94z\"/><path d=\"M17.41 7.96l-1.37-1.37c-.4-.4-.92-.59-1.43-.59-.52 0-1.04.2-1.43.59L10.3 9.45l-7.72 7.72c-.78.78-.78 2.05 0 2.83L4 21.41c.39.39.9.59 1.41.59.51 0 1.02-.2 1.41-.59l7.78-7.78 2.81-2.81c.8-.78.8-2.07 0-2.86zM5.41 20L4 18.59l7.72-7.72 1.47 1.35L5.41 20z\"/>\n",
              "  </svg>\n",
              "      </button>\n",
              "      \n",
              "  <style>\n",
              "    .colab-df-container {\n",
              "      display:flex;\n",
              "      flex-wrap:wrap;\n",
              "      gap: 12px;\n",
              "    }\n",
              "\n",
              "    .colab-df-convert {\n",
              "      background-color: #E8F0FE;\n",
              "      border: none;\n",
              "      border-radius: 50%;\n",
              "      cursor: pointer;\n",
              "      display: none;\n",
              "      fill: #1967D2;\n",
              "      height: 32px;\n",
              "      padding: 0 0 0 0;\n",
              "      width: 32px;\n",
              "    }\n",
              "\n",
              "    .colab-df-convert:hover {\n",
              "      background-color: #E2EBFA;\n",
              "      box-shadow: 0px 1px 2px rgba(60, 64, 67, 0.3), 0px 1px 3px 1px rgba(60, 64, 67, 0.15);\n",
              "      fill: #174EA6;\n",
              "    }\n",
              "\n",
              "    [theme=dark] .colab-df-convert {\n",
              "      background-color: #3B4455;\n",
              "      fill: #D2E3FC;\n",
              "    }\n",
              "\n",
              "    [theme=dark] .colab-df-convert:hover {\n",
              "      background-color: #434B5C;\n",
              "      box-shadow: 0px 1px 3px 1px rgba(0, 0, 0, 0.15);\n",
              "      filter: drop-shadow(0px 1px 2px rgba(0, 0, 0, 0.3));\n",
              "      fill: #FFFFFF;\n",
              "    }\n",
              "  </style>\n",
              "\n",
              "      <script>\n",
              "        const buttonEl =\n",
              "          document.querySelector('#df-42448a0b-21fa-4cc4-889d-2de26c4dd7d5 button.colab-df-convert');\n",
              "        buttonEl.style.display =\n",
              "          google.colab.kernel.accessAllowed ? 'block' : 'none';\n",
              "\n",
              "        async function convertToInteractive(key) {\n",
              "          const element = document.querySelector('#df-42448a0b-21fa-4cc4-889d-2de26c4dd7d5');\n",
              "          const dataTable =\n",
              "            await google.colab.kernel.invokeFunction('convertToInteractive',\n",
              "                                                     [key], {});\n",
              "          if (!dataTable) return;\n",
              "\n",
              "          const docLinkHtml = 'Like what you see? Visit the ' +\n",
              "            '<a target=\"_blank\" href=https://colab.research.google.com/notebooks/data_table.ipynb>data table notebook</a>'\n",
              "            + ' to learn more about interactive tables.';\n",
              "          element.innerHTML = '';\n",
              "          dataTable['output_type'] = 'display_data';\n",
              "          await google.colab.output.renderOutput(dataTable, element);\n",
              "          const docLink = document.createElement('div');\n",
              "          docLink.innerHTML = docLinkHtml;\n",
              "          element.appendChild(docLink);\n",
              "        }\n",
              "      </script>\n",
              "    </div>\n",
              "  </div>\n",
              "  "
            ]
          },
          "metadata": {},
          "execution_count": 5
        }
      ]
    },
    {
      "cell_type": "markdown",
      "source": [
        "## Dataset Statistics"
      ],
      "metadata": {
        "id": "SOJpIRwX2S1E"
      }
    },
    {
      "cell_type": "code",
      "source": [
        "print(f\"The number of samples: {dataset_df.shape}\")\n",
        "print(f\"The number of Nan in 'question_label': {dataset_df['question_label'].isna().sum()} - ({dataset_df.shape[0] - dataset_df['question_label'].isna().sum()})\")\n",
        "print(f\"The number of Nan in 'options_overall_label': {dataset_df['options_overall_label'].isna().sum()}\") #\n",
        "\n",
        "num_question_label = dataset_df.shape[0] - dataset_df['question_label'].isna().sum()\n",
        "num_option_label = dataset_df.shape[0] - dataset_df['options_overall_label'].isna().sum()"
      ],
      "metadata": {
        "colab": {
          "base_uri": "https://localhost:8080/"
        },
        "id": "eiCMwqfDNsam",
        "outputId": "4d6ecc6f-ed79-4337-cfa0-7224579c3e12"
      },
      "execution_count": null,
      "outputs": [
        {
          "output_type": "stream",
          "name": "stdout",
          "text": [
            "The number of samples: (2832, 14)\n",
            "The number of Nan in 'question_label': 2257 - (575)\n",
            "The number of Nan in 'options_overall_label': 0\n"
          ]
        }
      ]
    },
    {
      "cell_type": "markdown",
      "source": [
        "### Clarification Questions Templates"
      ],
      "metadata": {
        "id": "ggRb13dl2bjA"
      }
    },
    {
      "cell_type": "code",
      "source": [
        "cq_to_count = dict()\n",
        "for cq in dataset_df.itertuples(index=True):\n",
        "  if cq.question not in cq_to_count.keys():\n",
        "    cq_to_count[cq.question] = 1\n",
        "  else:\n",
        "    cq_to_count[cq.question] += 1"
      ],
      "metadata": {
        "id": "jsm46qCl2Px8"
      },
      "execution_count": null,
      "outputs": []
    },
    {
      "cell_type": "code",
      "source": [
        "print(f\"The numebr of unique CQ: {len(cq_to_count)}\")"
      ],
      "metadata": {
        "colab": {
          "base_uri": "https://localhost:8080/"
        },
        "id": "-O4sLj0i25Lu",
        "outputId": "3a57f4db-438c-473f-9e4b-04163700eca6"
      },
      "execution_count": null,
      "outputs": [
        {
          "output_type": "stream",
          "name": "stdout",
          "text": [
            "The numebr of unique CQ: 252\n"
          ]
        }
      ]
    },
    {
      "cell_type": "code",
      "source": [
        "# cq_to_count"
      ],
      "metadata": {
        "id": "oeGJ6gkZiNI1"
      },
      "execution_count": null,
      "outputs": []
    },
    {
      "cell_type": "markdown",
      "source": [
        "## CQ Quality Analysis"
      ],
      "metadata": {
        "id": "7ehmuSq6QPL0"
      }
    },
    {
      "cell_type": "code",
      "source": [
        "#\n",
        "def add_template_to_dict(cq_template, cq_count, cq_label, ca_label):\n",
        "    if cq_template not in template_cq_to_count.keys():\n",
        "      template_cq_to_count[cq_template] = {'count': 0, 'cqBad': 0, 'cqFair': 0, 'cqGood': 0, 'caBad': 0, 'caFair': 0, 'caGood': 0}\n",
        "      template_cq_to_count[cq_template]['count'] = cq_count\n",
        "      if not math.isnan(cq_label):\n",
        "        if cq_label == 0:\n",
        "          template_cq_to_count[cq_template]['cqBad'] = 1\n",
        "        elif cq_label == 1:\n",
        "          template_cq_to_count[cq_template]['cqFair'] = 1\n",
        "        elif cq_label == 2:\n",
        "          template_cq_to_count[cq_template]['cqGood'] = 1\n",
        "      #\n",
        "      if not math.isnan(ca_label):\n",
        "        if ca_label == 0:\n",
        "          template_cq_to_count[cq_template]['caBad'] = 1\n",
        "        elif ca_label == 1:\n",
        "          template_cq_to_count[cq_template]['caFair'] = 1\n",
        "        elif ca_label == 2:\n",
        "          template_cq_to_count[cq_template]['caGood'] = 1\n",
        "    else:\n",
        "      template_cq_to_count[cq_template]['count'] += cq_count\n",
        "      if not cq_label == None:\n",
        "        if cq_label == 0:\n",
        "          template_cq_to_count[cq_template]['cqBad'] += 1\n",
        "        elif cq_label == 1:\n",
        "          template_cq_to_count[cq_template]['cqFair'] += 1\n",
        "        elif cq_label == 2:\n",
        "          template_cq_to_count[cq_template]['cqGood'] += 1\n",
        "      #\n",
        "      if not math.isnan(ca_label):\n",
        "        if ca_label == 0:\n",
        "          template_cq_to_count[cq_template]['caBad'] += 1\n",
        "        elif ca_label == 1:\n",
        "          template_cq_to_count[cq_template]['caFair'] += 1\n",
        "        elif ca_label == 2:\n",
        "          template_cq_to_count[cq_template]['caGood'] += 1"
      ],
      "metadata": {
        "id": "eeyWdZtX7RZl"
      },
      "execution_count": null,
      "outputs": []
    },
    {
      "cell_type": "code",
      "source": [
        "# Here we create a dictionary that the key is the len of non-nan options generate for each clarification question\n",
        "# and the values are the number of options with respect to key and the number of lables for CQ and Overal Candidate Answers\n",
        "def candidate_answers(option_1, option_2, option_3, option_4, option_5, cq_label, ca_label):\n",
        "  options = [option_1, option_2, option_3, option_4, option_5]\n",
        "  # the number of non-nan candidate answers (or options)\n",
        "  non_nan_options = len([option for option in options if option is not np.nan])\n",
        "\n",
        "  if non_nan_options not in answers_count_to_labels.keys():\n",
        "    answers_count_to_labels[non_nan_options] = {'count': 0, 'cqBad': 0, 'cqFair': 0, 'cqGood': 0, 'caBad': 0, 'caFair': 0, 'caGood': 0}\n",
        "    answers_count_to_labels[non_nan_options]['count'] = 1\n",
        "    if not math.isnan(cq_label):\n",
        "      if cq_label == 0:\n",
        "        answers_count_to_labels[non_nan_options]['cqBad'] = 1\n",
        "      elif cq_label == 1:\n",
        "        answers_count_to_labels[non_nan_options]['cqFair'] = 1\n",
        "      elif cq_label == 2:\n",
        "        answers_count_to_labels[non_nan_options]['cqGood'] = 1\n",
        "    #\n",
        "    if not math.isnan(ca_label):\n",
        "        if ca_label == 0:\n",
        "          answers_count_to_labels[non_nan_options]['caBad'] = 1\n",
        "        elif ca_label == 1:\n",
        "          answers_count_to_labels[non_nan_options]['caFair'] = 1\n",
        "        elif ca_label == 2:\n",
        "          answers_count_to_labels[non_nan_options]['caGood'] = 1\n",
        "  else:\n",
        "      answers_count_to_labels[non_nan_options]['count'] += 1\n",
        "      if not math.isnan(ca_label):\n",
        "        if cq_label == 0:\n",
        "          answers_count_to_labels[non_nan_options]['cqBad'] += 1\n",
        "        elif cq_label == 1:\n",
        "          answers_count_to_labels[non_nan_options]['cqFair'] += 1\n",
        "        elif cq_label == 2:\n",
        "          answers_count_to_labels[non_nan_options]['cqGood'] += 1\n",
        "      #\n",
        "      if not math.isnan(ca_label):\n",
        "        if ca_label == 0:\n",
        "          answers_count_to_labels[non_nan_options]['caBad'] += 1\n",
        "        elif ca_label == 1:\n",
        "          answers_count_to_labels[non_nan_options]['caFair'] += 1\n",
        "        elif ca_label == 2:\n",
        "          answers_count_to_labels[non_nan_options]['caGood'] += 1\n"
      ],
      "metadata": {
        "id": "3CfLV2pZpFD7"
      },
      "execution_count": null,
      "outputs": []
    },
    {
      "cell_type": "code",
      "source": [
        "#\n",
        "def query_length(query, cq_label, ca_label):\n",
        "  q_len = len(query.split(' '))\n",
        "\n",
        "  if q_len not in query_len_to_labels.keys():\n",
        "    query_len_to_labels[q_len] = {'count': 0, 'cqBad': 0, 'cqFair': 0, 'cqGood': 0, 'caBad': 0, 'caFair': 0, 'caGood': 0}\n",
        "    query_len_to_labels[q_len]['count'] = 1\n",
        "    if not math.isnan(cq_label):\n",
        "      if cq_label == 0:\n",
        "        query_len_to_labels[q_len]['cqBad'] = 1\n",
        "      elif cq_label == 1:\n",
        "        query_len_to_labels[q_len]['cqFair'] = 1\n",
        "      elif cq_label == 2:\n",
        "        query_len_to_labels[q_len]['cqGood'] = 1\n",
        "    #\n",
        "    if not math.isnan(ca_label):\n",
        "        if ca_label == 0:\n",
        "          query_len_to_labels[q_len]['caBad'] = 1\n",
        "        elif ca_label == 1:\n",
        "          query_len_to_labels[q_len]['caFair'] = 1\n",
        "        elif ca_label == 2:\n",
        "          query_len_to_labels[q_len]['caGood'] = 1\n",
        "  else:\n",
        "      query_len_to_labels[q_len]['count'] += 1\n",
        "      if not math.isnan(ca_label):\n",
        "        if cq_label == 0:\n",
        "          query_len_to_labels[q_len]['cqBad'] += 1\n",
        "        elif cq_label == 1:\n",
        "          query_len_to_labels[q_len]['cqFair'] += 1\n",
        "        elif cq_label == 2:\n",
        "          query_len_to_labels[q_len]['cqGood'] += 1\n",
        "      #\n",
        "      if not math.isnan(ca_label):\n",
        "        if ca_label == 0:\n",
        "          query_len_to_labels[q_len]['caBad'] += 1\n",
        "        elif ca_label == 1:\n",
        "          query_len_to_labels[q_len]['caFair'] += 1\n",
        "        elif ca_label == 2:\n",
        "          query_len_to_labels[q_len]['caGood'] += 1"
      ],
      "metadata": {
        "id": "Y-pxNC_-WoFG"
      },
      "execution_count": null,
      "outputs": []
    },
    {
      "cell_type": "code",
      "source": [
        "#\n",
        "def qeustion_length(question, cq_label, ca_label):\n",
        "  q_len = len(question.split(' '))\n",
        "\n",
        "  if q_len not in question_len_to_labels.keys():\n",
        "    question_len_to_labels[q_len] = {'count': 0, 'cqBad': 0, 'cqFair': 0, 'cqGood': 0, 'caBad': 0, 'caFair': 0, 'caGood': 0}\n",
        "    question_len_to_labels[q_len]['count'] = 1\n",
        "    if not math.isnan(cq_label):\n",
        "      if cq_label == 0:\n",
        "        question_len_to_labels[q_len]['cqBad'] = 1\n",
        "      elif cq_label == 1:\n",
        "        question_len_to_labels[q_len]['cqFair'] = 1\n",
        "      elif cq_label == 2:\n",
        "        question_len_to_labels[q_len]['cqGood'] = 1\n",
        "    #\n",
        "    if not math.isnan(ca_label):\n",
        "        if ca_label == 0:\n",
        "          question_len_to_labels[q_len]['caBad'] = 1\n",
        "        elif ca_label == 1:\n",
        "          question_len_to_labels[q_len]['caFair'] = 1\n",
        "        elif ca_label == 2:\n",
        "          question_len_to_labels[q_len]['caGood'] = 1\n",
        "  else:\n",
        "      question_len_to_labels[q_len]['count'] += 1\n",
        "      if not math.isnan(ca_label):\n",
        "        if cq_label == 0:\n",
        "          question_len_to_labels[q_len]['cqBad'] += 1\n",
        "        elif cq_label == 1:\n",
        "          question_len_to_labels[q_len]['cqFair'] += 1\n",
        "        elif cq_label == 2:\n",
        "          question_len_to_labels[q_len]['cqGood'] += 1\n",
        "      #\n",
        "      if not math.isnan(ca_label):\n",
        "        if ca_label == 0:\n",
        "          question_len_to_labels[q_len]['caBad'] += 1\n",
        "        elif ca_label == 1:\n",
        "          question_len_to_labels[q_len]['caFair'] += 1\n",
        "        elif ca_label == 2:\n",
        "          question_len_to_labels[q_len]['caGood'] += 1"
      ],
      "metadata": {
        "id": "9Fe6DPWib92P"
      },
      "execution_count": null,
      "outputs": []
    },
    {
      "cell_type": "code",
      "source": [
        "template_cq_to_count = dict()\n",
        "query_len_to_labels = dict()\n",
        "question_len_to_labels = dict()\n",
        "answers_count_to_labels = dict()\n",
        "\n",
        "for eachline in dataset_df.itertuples(index=True):\n",
        "\n",
        "  #\n",
        "  query_length(eachline.query, eachline.question_label, eachline.options_overall_label)\n",
        "  #\n",
        "  qeustion_length(eachline.question, eachline.question_label, eachline.options_overall_label)\n",
        "  # canidate answers\n",
        "  candidate_answers(eachline.option_1, eachline.option_2, eachline.option_3, eachline.option_4, eachline.option_5, eachline.question_label, eachline.options_overall_label)\n",
        "\n",
        "  cq_count = 1\n",
        "  cq = eachline.question\n",
        "  # T0: Select one to refine your search\n",
        "  # if bool(re.match(r'Select one to refine your search', cq)):\n",
        "  #   template = 'Select one to refine your search'\n",
        "  #   add_template_to_dict(template, cq_count, eachline.question_label, eachline.options_overall_label)\n",
        "\n",
        "  # T1: What (would you like | do you want) to know about _____?\n",
        "  if bool(re.match(r'What (would you like|do you want) to know about [a-z]+?', cq)):\n",
        "    template = 'What (would you like|do you want) to know about [a-z]+?'\n",
        "    add_template_to_dict(template, cq_count, eachline.question_label, eachline.options_overall_label)\n",
        "\n",
        "  # T2: (Which | What) _____ do you mean?\n",
        "  elif bool(re.match(r'(Which|What) \"\"[a-z]+\"\" do you mean?', cq)):\n",
        "    template = '(Which|What) \"\"[a-z]+\"\" do you mean?'\n",
        "    add_template_to_dict(template, cq_count, eachline.question_label, eachline.options_overall_label)\n",
        "\n",
        "  # T3: (Which | What) _____ are you looking for?\n",
        "  elif bool(re.match(r'(Which|What) [a-zA-Z ]+ are you looking for?', cq)):\n",
        "    template = '(Which|What) [a-zA-Z ]+ are you looking for?'\n",
        "    add_template_to_dict(template, cq_count, eachline.question_label, eachline.options_overall_label)\n",
        "\n",
        "  # T4: What (would you like | do you want) to do with _____?\n",
        "  elif bool(re.match(r'What (would you like|do you want) to do with [a-z]+?', cq)):\n",
        "    template = 'What (would you like|do you want) to do with [a-z]+?'\n",
        "    add_template_to_dict(template, cq_count, eachline.question_label, eachline.options_overall_label)\n",
        "\n",
        "  # T5: Who are you shopping for?\n",
        "  elif bool(re.match(r'Who are you shopping for?', cq)):\n",
        "    template = 'Who are you shopping for?'\n",
        "    add_template_to_dict(template, cq_count, eachline.question_label, eachline.options_overall_label)\n",
        "\n",
        "  # T6: What are you trying to do?\n",
        "  elif bool(re.match(r'What are you trying to do?', cq)):\n",
        "    template = 'What are you trying to do?'\n",
        "    add_template_to_dict(template, cq_count, eachline.question_label, eachline.options_overall_label)\n",
        "\n",
        "  # T7: Do you have _____ in mind?\n",
        "  elif bool(re.match(r'Do you have [a-z]+ in mind?', cq)):\n",
        "    template = 'Do you have [a-z]+ in mind?'\n",
        "    add_template_to_dict(template, cq_count, eachline.question_label, eachline.options_overall_label)\n",
        "\n",
        "  # T8: Refine your search by interest\n",
        "  elif bool(re.match(r'Do you have any specific product in mind?', cq)):\n",
        "    template = 'Do you have any specific product in mind?'\n",
        "    add_template_to_dict(template, cq_count, eachline.question_label, eachline.options_overall_label)\n",
        "\n",
        "  # T9: else\n",
        "  # else:\n",
        "    # add_template_to_dict(\"XXX: \"+cq, cq_count, eachline.question_label, eachline.options_overall_label)\n"
      ],
      "metadata": {
        "id": "SineG_QV4eqD"
      },
      "execution_count": null,
      "outputs": []
    },
    {
      "cell_type": "markdown",
      "source": [
        "### Normalizer"
      ],
      "metadata": {
        "id": "9craCWn4VNGn"
      }
    },
    {
      "cell_type": "code",
      "source": [
        "def _normalizer(analysis_dict):\n",
        "  # zi = (xi – min(x)) / (max(x) – min(x))\n",
        "  for key, statistics in analysis_dict.items():\n",
        "    # analysis_dict[key]['count'] = round(analysis_dict[key]['count'] / dataset_df.shape[0], 4)\n",
        "    analysis_dict[key]['cqBad'] = analysis_dict[key]['cqBad'] / (1.0 * analysis_dict[key]['count'])\n",
        "    analysis_dict[key]['cqFair'] = analysis_dict[key]['cqFair'] / (1.0 * analysis_dict[key]['count'])\n",
        "    analysis_dict[key]['cqGood'] = analysis_dict[key]['cqGood'] / (1.0 * analysis_dict[key]['count'])\n",
        "    analysis_dict[key]['caBad'] = analysis_dict[key]['caBad'] / (1.0 * analysis_dict[key]['count'])\n",
        "    analysis_dict[key]['caFair'] = analysis_dict[key]['caFair'] / (1.0 * analysis_dict[key]['count'])\n",
        "    analysis_dict[key]['caGood'] = analysis_dict[key]['caGood'] / (1.0 * analysis_dict[key]['count'])"
      ],
      "metadata": {
        "id": "VdM2M4Ns8ev5"
      },
      "execution_count": null,
      "outputs": []
    },
    {
      "cell_type": "code",
      "source": [
        "def count_remover(input_dict):\n",
        "  copied_input_dict = copy.deepcopy(input_dict)\n",
        "  for key, value in copied_input_dict.items():\n",
        "    value.pop('count', None)\n",
        "  return copied_input_dict"
      ],
      "metadata": {
        "id": "lMBgKbxpbzTj"
      },
      "execution_count": null,
      "outputs": []
    },
    {
      "cell_type": "markdown",
      "source": [
        "### Template to Count Plots"
      ],
      "metadata": {
        "id": "rHnS0Knkctkc"
      }
    },
    {
      "cell_type": "code",
      "source": [
        "_normalizer(template_cq_to_count)\n",
        "copied_template_cq_to_count = count_remover(input_dict=template_cq_to_count)\n",
        "sorted_template_cq_to_count = collections.OrderedDict(sorted(copied_template_cq_to_count.items()))\n",
        "\n",
        "pd.DataFrame(sorted_template_cq_to_count).plot(kind='bar', width=0.7)\n",
        "# Put a legend to the right of the current axis\n",
        "plt.legend(loc='center left', bbox_to_anchor=(1, 0.5))\n",
        "plt.savefig(f'{DATASET}_templates_to_count.pdf', bbox_inches='tight', pad_inches=0)"
      ],
      "metadata": {
        "colab": {
          "base_uri": "https://localhost:8080/",
          "height": 300
        },
        "id": "Gf2__51MmyES",
        "outputId": "258fc8f7-099e-4826-b512-45f8abdcb05f"
      },
      "execution_count": null,
      "outputs": [
        {
          "output_type": "display_data",
          "data": {
            "text/plain": [
              "<Figure size 432x288 with 1 Axes>"
            ],
            "image/png": "[encoded data removed]"
          },
          "metadata": {}
        }
      ]
    },
    {
      "cell_type": "code",
      "source": [
        "# sorted_template_cq_to_count"
      ],
      "metadata": {
        "id": "ale2v_6emPNg"
      },
      "execution_count": null,
      "outputs": []
    },
    {
      "cell_type": "code",
      "source": [
        "_normalizer(answers_count_to_labels)\n",
        "copied_answers_count_to_labels = count_remover(input_dict=answers_count_to_labels)\n",
        "sorted_answers_count_to_labels = collections.OrderedDict(sorted(copied_answers_count_to_labels.items()))\n",
        "\n",
        "pd.DataFrame(sorted_answers_count_to_labels).plot(kind='bar')\n",
        "# Put a legend to the right of the current axis\n",
        "# plt.legend(loc='center left', bbox_to_anchor=(1, 0.5))\n",
        "plt.savefig(f'{DATASET}_answers_count_to_labels.pdf', bbox_inches='tight', pad_inches=0)"
      ],
      "metadata": {
        "colab": {
          "base_uri": "https://localhost:8080/",
          "height": 300
        },
        "id": "UO1RIbrNHanx",
        "outputId": "b8758167-e30b-41fc-beb2-1918c2423afd"
      },
      "execution_count": null,
      "outputs": [
        {
          "output_type": "display_data",
          "data": {
            "text/plain": [
              "<Figure size 432x288 with 1 Axes>"
            ],
            "image/png": "[encoded data removed]"
          },
          "metadata": {}
        }
      ]
    },
    {
      "cell_type": "code",
      "source": [
        "# sorted_answers_count_to_labels"
      ],
      "metadata": {
        "id": "_on2V8VFX7yR"
      },
      "execution_count": null,
      "outputs": []
    },
    {
      "cell_type": "code",
      "source": [
        "_normalizer(query_len_to_labels)\n",
        "copied_query_len_to_labels = count_remover(input_dict=query_len_to_labels)\n",
        "sorted_query_len_to_labels = collections.OrderedDict(sorted(copied_query_len_to_labels.items()))"
      ],
      "metadata": {
        "id": "yUliSdkoIp6a"
      },
      "execution_count": null,
      "outputs": []
    },
    {
      "cell_type": "code",
      "source": [
        "pd.DataFrame(sorted_query_len_to_labels).plot(kind='bar', width=0.8)\n",
        "# Put a legend to the right of the current axis\n",
        "# plt.legend(loc='center left', bbox_to_anchor=(1, 0.5))\n",
        "plt.savefig(f'{DATASET}_query_len_to_labels.pdf', bbox_inches='tight', pad_inches=0)"
      ],
      "metadata": {
        "colab": {
          "base_uri": "https://localhost:8080/",
          "height": 300
        },
        "id": "Xt16SzwwZnEn",
        "outputId": "2a48bc0e-bdce-4b71-d25b-1e3b4e210ca2"
      },
      "execution_count": null,
      "outputs": [
        {
          "output_type": "display_data",
          "data": {
            "text/plain": [
              "<Figure size 432x288 with 1 Axes>"
            ],
            "image/png": "[encoded data removed]"
          },
          "metadata": {}
        }
      ]
    },
    {
      "cell_type": "code",
      "source": [
        "sorted_query_len_to_labels_df = pd.DataFrame(sorted_query_len_to_labels)\n",
        "sorted_query_len_to_labels_df.loc[['cqFair', 'cqGood']].T.plot(kind='bar', width=0.7)\n",
        "plt.legend(labels = ['Fair', 'Good'], prop={'size': 16})\n",
        "locs, labels = plt.xticks()\n",
        "plt.xticks(fontsize=16, rotation=0)\n",
        "# plt.xticks(locs, labels=['Fair', 'Good'], fontsize=16, rotation=0)\n",
        "plt.savefig(f'{DATASET}_query_len_to_labels.pdf', bbox_inches='tight', pad_inches=0)"
      ],
      "metadata": {
        "colab": {
          "base_uri": "https://localhost:8080/",
          "height": 273
        },
        "id": "UVA0MqzXIoZy",
        "outputId": "bddf45a2-e71c-4f7e-84a0-adfc09455ea3"
      },
      "execution_count": null,
      "outputs": [
        {
          "output_type": "display_data",
          "data": {
            "text/plain": [
              "<Figure size 432x288 with 1 Axes>"
            ],
            "image/png": "[encoded data removed]"
          },
          "metadata": {}
        }
      ]
    },
    {
      "cell_type": "code",
      "source": [
        "# line plot\n",
        "# pd.DataFrame(sorted_query_len_to_labels).T.plot(kind='line')"
      ],
      "metadata": {
        "id": "_nLZv59ia1Bu"
      },
      "execution_count": null,
      "outputs": []
    },
    {
      "cell_type": "code",
      "source": [
        "_normalizer(question_len_to_labels)\n",
        "copied_question_len_to_labels = count_remover(input_dict=question_len_to_labels)\n",
        "sorted_question_len_to_labels = collections.OrderedDict(sorted(copied_question_len_to_labels.items()))"
      ],
      "metadata": {
        "id": "lu0vcjejKZRn"
      },
      "execution_count": null,
      "outputs": []
    },
    {
      "cell_type": "code",
      "source": [
        "sorted_question_len_to_labels_df = pd.DataFrame(sorted_question_len_to_labels)\n",
        "sorted_question_len_to_labels_df.loc[['cqFair', 'cqGood']].T.plot(kind='bar', width=0.7)\n",
        "plt.legend(labels = ['Fair', 'Good'], prop={'size': 16})\n",
        "locs, labels = plt.xticks()\n",
        "plt.xticks(fontsize=16, rotation=0)\n",
        "# plt.xticks(locs, labels=['Fair', 'Good'], fontsize=16, rotation=0)\n",
        "plt.savefig(f'{DATASET}_question_len_to_labels.pdf', bbox_inches='tight', pad_inches=0)"
      ],
      "metadata": {
        "colab": {
          "base_uri": "https://localhost:8080/",
          "height": 273
        },
        "id": "ALwFIM2cKbUF",
        "outputId": "02a1eae4-2081-454e-fd67-87d977e430db"
      },
      "execution_count": null,
      "outputs": [
        {
          "output_type": "display_data",
          "data": {
            "text/plain": [
              "<Figure size 432x288 with 1 Axes>"
            ],
            "image/png": "[encoded data removed]"
          },
          "metadata": {}
        }
      ]
    },
    {
      "cell_type": "code",
      "source": [
        "pd.DataFrame(sorted_question_len_to_labels).plot(kind='bar', width=0.8)\n",
        "# Put a legend to the right of the current axis\n",
        "# plt.legend(loc='center left', bbox_to_anchor=(1, 0.5))\n",
        "plt.savefig(f'{DATASET}_question_len_to_labels.pdf', bbox_inches='tight', pad_inches=0)"
      ],
      "metadata": {
        "colab": {
          "base_uri": "https://localhost:8080/",
          "height": 300
        },
        "id": "v12_-UB-bU6q",
        "outputId": "d7f718d4-202f-4edb-ab26-3cb0006908ab"
      },
      "execution_count": null,
      "outputs": [
        {
          "output_type": "display_data",
          "data": {
            "text/plain": [
              "<Figure size 432x288 with 1 Axes>"
            ],
            "image/png": "[encoded data removed]"
          },
          "metadata": {}
        }
      ]
    },
    {
      "cell_type": "code",
      "source": [
        "# line plot\n",
        "pd.DataFrame(sorted_question_len_to_labels).T.plot(kind='line')"
      ],
      "metadata": {
        "colab": {
          "base_uri": "https://localhost:8080/",
          "height": 286
        },
        "id": "MfXRmJjrd3Qe",
        "outputId": "7f86999a-e063-4c79-b431-1ed93b86b1fc"
      },
      "execution_count": null,
      "outputs": [
        {
          "output_type": "execute_result",
          "data": {
            "text/plain": [
              "<matplotlib.axes._subplots.AxesSubplot at 0x7f5bff76d340>"
            ]
          },
          "metadata": {},
          "execution_count": 36
        },
        {
          "output_type": "display_data",
          "data": {
            "text/plain": [
              "<Figure size 432x288 with 1 Axes>"
            ],
            "image/png": "[encoded data removed]"
          },
          "metadata": {}
        }
      ]
    },
    {
      "cell_type": "markdown",
      "source": [
        "### Faceted vs. Ambiguous"
      ],
      "metadata": {
        "id": "ILQk_GWVEomi"
      }
    },
    {
      "cell_type": "code",
      "source": [
        "def add_query_model(query_type, cq_label, ca_label):\n",
        "  query_model[query_type]['count'] += 1\n",
        "  if not math.isnan(cq_label):\n",
        "    if cq_label == 0:\n",
        "      query_model[query_type]['cqBad'] += 1\n",
        "    elif cq_label == 1:\n",
        "      query_model[query_type]['cqFair'] += 1\n",
        "    elif cq_label == 2:\n",
        "      query_model[query_type]['cqGood'] += 1\n",
        "  if not math.isnan(ca_label):\n",
        "      if ca_label == 0:\n",
        "        query_model[query_type]['caBad'] += 1\n",
        "      elif ca_label == 1:\n",
        "        query_model[query_type]['caFair'] += 1\n",
        "      elif ca_label == 2:\n",
        "        query_model[query_type]['caGood'] += 1"
      ],
      "metadata": {
        "id": "6WpjqR-6-Xxb"
      },
      "execution_count": null,
      "outputs": []
    },
    {
      "cell_type": "code",
      "source": [
        "# analysis of generated CQs for faceted and non-faceted query\n",
        "query_model = dict()\n",
        "query_model['faceted'] = {'count': 0, 'cqBad': 0, 'cqFair': 0, 'cqGood': 0, 'caBad': 0, 'caFair': 0, 'caGood': 0}\n",
        "query_model['ambiguous'] = {'count': 0, 'cqBad': 0, 'cqFair': 0, 'cqGood': 0, 'caBad': 0, 'caFair': 0, 'caGood': 0}\n",
        "\n",
        "for eachline in dataset_df.itertuples(index=True):\n",
        "  # Faceted query\n",
        "  # T2: (Which | What) _____ do you mean?\n",
        "  if bool(re.match(r'(Which|What) \"\"[a-z]+\"\" do you mean?', eachline.question)):\n",
        "    add_query_model('ambiguous', eachline.question_label, eachline.options_overall_label)\n",
        "  # Non-faceted Query\n",
        "  else:\n",
        "    add_query_model('faceted', eachline.question_label, eachline.options_overall_label)"
      ],
      "metadata": {
        "id": "ZOEEhtX49gbn"
      },
      "execution_count": null,
      "outputs": []
    },
    {
      "cell_type": "code",
      "source": [
        "_normalizer(query_model)\n",
        "copied_query_model = count_remover(query_model)\n",
        "sorted_query_model = collections.OrderedDict(sorted(copied_query_model.items()))"
      ],
      "metadata": {
        "id": "JswpHUrfDb2D"
      },
      "execution_count": null,
      "outputs": []
    },
    {
      "cell_type": "code",
      "source": [
        "sorted_query_model_df = pd.DataFrame(sorted_query_model)\n",
        "sorted_query_model_df.loc[['cqBad', 'cqFair', 'cqGood']].plot(kind='bar', width=0.7)\n",
        "plt.legend(prop={'size': 16})\n",
        "locs, labels = plt.xticks()\n",
        "plt.xticks(locs, labels=['Bad', 'Fair', 'Good'], fontsize=16, rotation=0)\n",
        "plt.savefig(f'{DATASET}_query_model_to_labels.pdf', bbox_inches='tight', pad_inches=0)"
      ],
      "metadata": {
        "colab": {
          "base_uri": "https://localhost:8080/",
          "height": 273
        },
        "id": "HrtIFdCjDe_p",
        "outputId": "7952fbce-3148-4f8f-860e-8c59200e8446"
      },
      "execution_count": null,
      "outputs": [
        {
          "output_type": "display_data",
          "data": {
            "text/plain": [
              "<Figure size 432x288 with 1 Axes>"
            ],
            "image/png": "[encoded data removed]"
          },
          "metadata": {}
        }
      ]
    },
    {
      "cell_type": "code",
      "source": [
        "\n",
        "\n",
        "# pd.DataFrame(sorted_query_model).plot(kind='bar', width=0.7)\n",
        "# # Put a legend to the right of the current axis\n",
        "# # plt.legend(loc='center left', bbox_to_anchor=(1, 0.5))\n",
        "# plt.savefig(f'{DATASET}_query_model_label.pdf', bbox_inches='tight', pad_inches=0)"
      ],
      "metadata": {
        "colab": {
          "base_uri": "https://localhost:8080/",
          "height": 300
        },
        "id": "rTd9mZdv-1Fz",
        "outputId": "4d66a68c-677f-4dbb-d348-407479283eb3"
      },
      "execution_count": null,
      "outputs": [
        {
          "output_type": "display_data",
          "data": {
            "text/plain": [
              "<Figure size 432x288 with 1 Axes>"
            ],
            "image/png": "[encoded data removed]"
          },
          "metadata": {}
        }
      ]
    },
    {
      "cell_type": "markdown",
      "source": [
        "### Rouge"
      ],
      "metadata": {
        "id": "ufMZnAupEm03"
      }
    },
    {
      "cell_type": "code",
      "source": [
        "# Should we include the \"select to refine the query\" clarification questions in this analysis?\n",
        "# most of them are zero\n",
        "\n",
        "rouge = Rouge()\n",
        "\n",
        "rouge1_fmeasure, rouge1_precision, rouge1_recall = [], [], []\n",
        "rouge2_fmeasure, rouge2_precision, rouge2_recall = [], [], []\n",
        "rougeL_fmeasure, rougeL_precision, rougeL_recall = [], [], []\n",
        "\n",
        "nonnan_dataset_df = dataset_df[~dataset_df['question_label'].isna()]\n",
        "\n",
        "for eachline in tqdm(nonnan_dataset_df.itertuples(index=True)):\n",
        "  preds = eachline.query\n",
        "  target = eachline.question\n",
        "  eval = rouge.get_scores(preds, target)\n",
        "\n",
        "  rouge1_fmeasure.append(eval[0]['rouge-1']['f'])\n",
        "  rouge1_precision.append(eval[0]['rouge-1']['p'])\n",
        "  rouge1_recall.append(eval[0]['rouge-1']['r'])\n",
        "\n",
        "  rouge2_fmeasure.append(eval[0]['rouge-2']['f'])\n",
        "  rouge2_precision.append(eval[0]['rouge-2']['p'])\n",
        "  rouge2_recall.append(eval[0]['rouge-2']['r'])\n",
        "\n",
        "  rougeL_fmeasure.append(eval[0]['rouge-l']['f'])\n",
        "  rougeL_precision.append(eval[0]['rouge-l']['p'])\n",
        "  rougeL_recall.append(eval[0]['rouge-l']['r'])"
      ],
      "metadata": {
        "colab": {
          "base_uri": "https://localhost:8080/"
        },
        "id": "rf-0zBOkBlDA",
        "outputId": "f8011127-a32b-4467-d29e-a5ed0acf13a1"
      },
      "execution_count": null,
      "outputs": [
        {
          "output_type": "stream",
          "name": "stderr",
          "text": [
            "575it [00:00, 1297.14it/s]\n"
          ]
        }
      ]
    },
    {
      "cell_type": "code",
      "source": [
        "print(\"Rouge-1 (F1, Pre, Rec):\", round(np.mean(rouge1_fmeasure), 4), round(np.mean(rouge1_precision), 4), round(np.mean(rouge1_recall), 4))\n",
        "print(\"Rouge-2 (F1, Pre, Rec):\", round(np.mean(rouge2_fmeasure), 4), round(np.mean(rouge2_precision), 4), round(np.mean(rouge2_recall), 4))\n",
        "print(\"Rouge-L (F1, Pre, Rec):\", round(np.mean(rougeL_fmeasure), 4), round(np.mean(rougeL_precision), 4), round(np.mean(rougeL_recall), 4))"
      ],
      "metadata": {
        "colab": {
          "base_uri": "https://localhost:8080/"
        },
        "id": "WrRWjZvQEBap",
        "outputId": "c064de8a-6825-4415-c612-53400a19014d"
      },
      "execution_count": null,
      "outputs": [
        {
          "output_type": "stream",
          "name": "stdout",
          "text": [
            "Rouge-1 (F1, Pre, Rec): 0.0408 0.0901 0.027\n",
            "Rouge-2 (F1, Pre, Rec): 0.0129 0.0328 0.0081\n",
            "Rouge-L (F1, Pre, Rec): 0.0408 0.0901 0.027\n"
          ]
        }
      ]
    },
    {
      "cell_type": "markdown",
      "source": [
        "The correlation between the rouge scores and the clarification usefulness scores"
      ],
      "metadata": {
        "id": "Q4IcPvcothDD"
      }
    },
    {
      "cell_type": "code",
      "source": [
        "import numpy as np\n",
        "from scipy import stats\n",
        "for rouge_metric in [rouge1_fmeasure, rouge1_precision, rouge1_recall, rouge2_fmeasure, rouge2_precision, rouge2_recall, rougeL_fmeasure, rougeL_precision, rougeL_recall]:\n",
        "  res = stats.pearsonr(rouge_metric, dataset_df.question_label[~dataset_df.question_label.isna()])\n",
        "  print(res)"
      ],
      "metadata": {
        "colab": {
          "base_uri": "https://localhost:8080/"
        },
        "id": "vco429qstlYv",
        "outputId": "f55a4444-33fa-4c34-db97-7946210bf1c9"
      },
      "execution_count": null,
      "outputs": [
        {
          "output_type": "stream",
          "name": "stdout",
          "text": [
            "(0.3305695654327875, 3.9704337281077464e-16)\n",
            "(0.3626806639806858, 2.573432182428273e-19)\n",
            "(0.30757905102364885, 4.590886507739612e-14)\n",
            "(0.22382883369484785, 5.8110851244321464e-08)\n",
            "(0.23116886571184406, 2.055101810661361e-08)\n",
            "(0.22087931664922716, 8.737001664065087e-08)\n",
            "(0.3305695654327875, 3.9704337281077464e-16)\n",
            "(0.3626806639806858, 2.573432182428273e-19)\n",
            "(0.30757905102364885, 4.590886507739612e-14)\n"
          ]
        }
      ]
    },
    {
      "cell_type": "code",
      "source": [
        "rouge_precision_corr = stats.pearsonr(rouge1_precision, dataset_df.question_label[~dataset_df.question_label.isna()])[0]\n",
        "rouge_recall_corr = stats.pearsonr(rouge1_recall, dataset_df.question_label[~dataset_df.question_label.isna()])[0]"
      ],
      "metadata": {
        "id": "LtUoYqkM40_r"
      },
      "execution_count": null,
      "outputs": []
    },
    {
      "cell_type": "markdown",
      "source": [
        "### Speciteller"
      ],
      "metadata": {
        "id": "EU1NprGn09km"
      }
    },
    {
      "cell_type": "code",
      "source": [
        "!pip install -U liblinear-official"
      ],
      "metadata": {
        "colab": {
          "base_uri": "https://localhost:8080/"
        },
        "id": "QXrsGxDI1Lcx",
        "outputId": "f1d94e9b-721e-4ec8-cd3a-9d1a50020640"
      },
      "execution_count": null,
      "outputs": [
        {
          "output_type": "stream",
          "name": "stdout",
          "text": [
            "Looking in indexes: https://pypi.org/simple, https://us-python.pkg.dev/colab-wheels/public/simple/\n",
            "Collecting liblinear-official\n",
            "  Downloading liblinear-official-2.46.1.tar.gz (46 kB)\n",
            "\u001b[2K     \u001b[90m━━━━━━━━━━━━━━━━━━━━━━━━━━━━━━━━━━━━━━━━\u001b[0m \u001b[32m46.9/46.9 KB\u001b[0m \u001b[31m1.5 MB/s\u001b[0m eta \u001b[36m0:00:00\u001b[0m\n",
            "\u001b[?25h  Preparing metadata (setup.py) ... \u001b[?25l\u001b[?25hdone\n",
            "Requirement already satisfied: scipy in /usr/local/lib/python3.8/dist-packages (from liblinear-official) (1.7.3)\n",
            "Requirement already satisfied: numpy<1.23.0,>=1.16.5 in /usr/local/lib/python3.8/dist-packages (from scipy->liblinear-official) (1.21.6)\n",
            "Building wheels for collected packages: liblinear-official\n",
            "  Building wheel for liblinear-official (setup.py) ... \u001b[?25l\u001b[?25hdone\n",
            "  Created wheel for liblinear-official: filename=liblinear_official-2.46.1-cp38-cp38-linux_x86_64.whl size=146570 sha256=b13fe3f533ebcfc2b06746b30ed0a294b0d10652b3cf71badfa03327c41ee157\n",
            "  Stored in directory: /root/.cache/pip/wheels/d8/81/b1/c41e218ccdbb56d943dfff43f4ad2071a679ecb2f93c904b49\n",
            "Successfully built liblinear-official\n",
            "Installing collected packages: liblinear-official\n",
            "Successfully installed liblinear-official-2.46.1\n"
          ]
        }
      ]
    },
    {
      "cell_type": "code",
      "source": [
        "! git clone https://github.com/rahmanidashti/CQSatisfaction.git"
      ],
      "metadata": {
        "colab": {
          "base_uri": "https://localhost:8080/"
        },
        "id": "Ew96v8Wj4vMS",
        "outputId": "f4c9d65d-995e-485b-90d4-52efc1e9a973"
      },
      "execution_count": null,
      "outputs": [
        {
          "output_type": "stream",
          "name": "stdout",
          "text": [
            "Cloning into 'CQSatisfaction'...\n",
            "remote: Enumerating objects: 69, done.\u001b[K\n",
            "remote: Counting objects: 100% (69/69), done.\u001b[K\n",
            "remote: Compressing objects: 100% (54/54), done.\u001b[K\n",
            "remote: Total 69 (delta 21), reused 56 (delta 11), pack-reused 0\u001b[K\n",
            "Unpacking objects: 100% (69/69), 6.58 MiB | 4.90 MiB/s, done.\n"
          ]
        }
      ]
    },
    {
      "cell_type": "code",
      "source": [
        "cd CQSatisfaction/speciteller"
      ],
      "metadata": {
        "colab": {
          "base_uri": "https://localhost:8080/"
        },
        "id": "NX3eYyj-ALDK",
        "outputId": "83fd50af-c97a-40bc-886d-bfed2e4d9f75"
      },
      "execution_count": null,
      "outputs": [
        {
          "output_type": "stream",
          "name": "stdout",
          "text": [
            "/content/CQSatisfaction/speciteller/CQSatisfaction/speciteller\n"
          ]
        }
      ]
    },
    {
      "cell_type": "code",
      "source": [
        "# creating query and clarification question file\n",
        "queries = open('queries', 'w')\n",
        "cqs = open('cqs', 'w')\n",
        "\n",
        "for eachline in tqdm(dataset_df.itertuples(index=True)):\n",
        "  queries.write(eachline.query + \"\\n\")\n",
        "  cqs.write(eachline.question + \"\\n\")\n",
        "\n",
        "queries.close()\n",
        "cqs.close()"
      ],
      "metadata": {
        "colab": {
          "base_uri": "https://localhost:8080/"
        },
        "id": "RGyF2CcuL0pR",
        "outputId": "e3da3fb8-7d3a-4f85-a2e9-d8c496389739"
      },
      "execution_count": null,
      "outputs": [
        {
          "output_type": "stream",
          "name": "stderr",
          "text": [
            "2832it [00:00, 255997.18it/s]\n"
          ]
        }
      ]
    },
    {
      "cell_type": "code",
      "source": [
        "! python speciteller.py --inputfile queries --outputfile queries.probs"
      ],
      "metadata": {
        "colab": {
          "base_uri": "https://localhost:8080/"
        },
        "id": "EOHSasjp1WD_",
        "outputId": "d1692381-d812-46f7-a416-31fd052f8c51"
      },
      "execution_count": null,
      "outputs": [
        {
          "output_type": "stream",
          "name": "stdout",
          "text": [
            "loading brown clusters...\n",
            "done; # words:  247339\n",
            "loading word embeddings...\n",
            "done; # words:  268810\n",
            "SPECITELLER: please make sure that your input sentences are WORD-TOKENIZED for better prediction.\n",
            "Output to queries.probs done.\n"
          ]
        }
      ]
    },
    {
      "cell_type": "code",
      "source": [
        "! python speciteller.py --inputfile cqs --outputfile cqs.probs"
      ],
      "metadata": {
        "colab": {
          "base_uri": "https://localhost:8080/"
        },
        "id": "wBzCGY5T_d1v",
        "outputId": "2e929856-8d1b-47be-cbeb-1841966986d9"
      },
      "execution_count": null,
      "outputs": [
        {
          "output_type": "stream",
          "name": "stdout",
          "text": [
            "loading brown clusters...\n",
            "done; # words:  247339\n",
            "loading word embeddings...\n",
            "done; # words:  268810\n",
            "SPECITELLER: please make sure that your input sentences are WORD-TOKENIZED for better prediction.\n",
            "Output to cqs.probs done.\n"
          ]
        }
      ]
    },
    {
      "cell_type": "code",
      "source": [
        "queries_prob = pd.read_csv(\"queries.probs\", names=['prob'])\n",
        "cqs_prob = pd.read_csv(\"cqs.probs\", names=['prob'])\n",
        "# adding cqs_prob to the queries_prob dataframe\n",
        "queries_prob['cqs_prob'] = cqs_prob['prob']\n",
        "print(queries_prob.shape)"
      ],
      "metadata": {
        "colab": {
          "base_uri": "https://localhost:8080/"
        },
        "id": "Z0WJkYCDMgkS",
        "outputId": "f03a6e44-fee6-421f-c40b-3b80b5e4188d"
      },
      "execution_count": null,
      "outputs": [
        {
          "output_type": "stream",
          "name": "stdout",
          "text": [
            "(2832, 2)\n"
          ]
        }
      ]
    },
    {
      "cell_type": "code",
      "source": [
        "# Remove rows\n",
        "# queries_prob = queries_prob[queries_prob.cqs_prob <= 0.05]\n",
        "# print(queries_prob.shape)"
      ],
      "metadata": {
        "id": "oCN5yrBTdsSX"
      },
      "execution_count": null,
      "outputs": []
    },
    {
      "cell_type": "code",
      "source": [
        "from scipy import stats\n",
        "specifity_corr = stats.pearsonr(queries_prob['prob'], cqs_prob['prob'])[0]"
      ],
      "metadata": {
        "id": "I4exSq8GM_jz"
      },
      "execution_count": null,
      "outputs": []
    },
    {
      "cell_type": "code",
      "source": [
        "# plotting the data\n",
        "plt.scatter(queries_prob['prob'], queries_prob['cqs_prob'])\n",
        "# This will fit the best line into the graph\n",
        "# plt.plot(np.unique(queries_prob['prob']), np.poly1d(np.polyfit(queries_prob['prob'], queries_prob['cqs_prob'], 1))(np.unique(queries_prob['prob'])), color='red')"
      ],
      "metadata": {
        "colab": {
          "base_uri": "https://localhost:8080/",
          "height": 286
        },
        "id": "jIfGOY_VN7Kr",
        "outputId": "eb4cdb30-2d4a-493b-e2c4-416672d0d592"
      },
      "execution_count": null,
      "outputs": [
        {
          "output_type": "execute_result",
          "data": {
            "text/plain": [
              "<matplotlib.collections.PathCollection at 0x7fed02f85220>"
            ]
          },
          "metadata": {},
          "execution_count": 44
        },
        {
          "output_type": "display_data",
          "data": {
            "text/plain": [
              "<Figure size 432x288 with 1 Axes>"
            ],
            "image/png": "[encoded data removed]"
          },
          "metadata": {}
        }
      ]
    },
    {
      "cell_type": "markdown",
      "source": [
        "### Query refinement"
      ],
      "metadata": {
        "id": "azyO1gxSRLXt"
      }
    },
    {
      "cell_type": "code",
      "source": [
        "#\n",
        "def query_refinem(query_type, query, cq_label, ca_label):\n",
        "\n",
        "  q_len = len(query.split(' '))\n",
        "\n",
        "  query_refinement[query_type]['count'] += 1\n",
        "  query_refinement[query_type]['sum_len'] += q_len\n",
        "  if not math.isnan(cq_label):\n",
        "    if cq_label == 0:\n",
        "      query_refinement[query_type]['cqBad'] += 1\n",
        "    elif cq_label == 1:\n",
        "      query_refinement[query_type]['cqFair'] += 1\n",
        "    elif cq_label == 2:\n",
        "      query_refinement[query_type]['cqGood'] += 1\n",
        "  #\n",
        "  if not math.isnan(ca_label):\n",
        "      if ca_label == 0:\n",
        "        query_refinement[query_type]['caBad'] += 1\n",
        "      elif ca_label == 1:\n",
        "        query_refinement[query_type]['caFair'] += 1\n",
        "      elif ca_label == 2:\n",
        "        query_refinement[query_type]['caGood'] += 1"
      ],
      "metadata": {
        "id": "LUraHR9egWYq"
      },
      "execution_count": null,
      "outputs": []
    },
    {
      "cell_type": "code",
      "source": [
        "query_refinement = dict()\n",
        "query_refinement['refine'] = {'count': 0, 'sum_len': 0, 'cqBad': 0, 'cqFair': 0, 'cqGood': 0, 'caBad': 0, 'caFair': 0, 'caGood': 0}\n",
        "query_refinement['non-refine'] = {'count': 0, 'sum_len': 0, 'cqBad': 0, 'cqFair': 0, 'cqGood': 0, 'caBad': 0, 'caFair': 0, 'caGood': 0}\n",
        "\n",
        "for eachline in dataset_df.itertuples(index=True):\n",
        "  if bool(re.match(r'Select one to refine your search', eachline.question)):\n",
        "    query_refinem('refine', eachline.query, eachline.question_label, eachline.options_overall_label)\n",
        "  else:\n",
        "    query_refinem('non-refine', eachline.query, eachline.question_label, eachline.options_overall_label)"
      ],
      "metadata": {
        "id": "9IlHuqp6RVAC"
      },
      "execution_count": null,
      "outputs": []
    },
    {
      "cell_type": "code",
      "source": [
        "print(\"> refine - count\", query_refinement['refine']['count'])\n",
        "print(\"> non-refine - count\", query_refinement['non-refine']['count'])\n",
        "print(\"\")\n",
        "\n",
        "for attribute in ['sum_len', 'cqBad', 'cqFair', 'cqGood', 'caBad', 'caFair', 'caGood']:\n",
        "  print(f\"> refine - count/{attribute}:\", round(query_refinement['refine'][attribute] / query_refinement['refine']['count'], 4))\n",
        "  print(f\"> non-refine - count/{attribute}:\", round(query_refinement['non-refine'][attribute] / query_refinement['non-refine']['count'], 4))\n",
        "  print(\"\")"
      ],
      "metadata": {
        "colab": {
          "base_uri": "https://localhost:8080/"
        },
        "id": "FAe4W4Xiii7H",
        "outputId": "0ebb667f-8e95-49dc-c9f6-d437625c88de"
      },
      "execution_count": null,
      "outputs": [
        {
          "output_type": "stream",
          "name": "stdout",
          "text": [
            "> refine - count 2490\n",
            "> non-refine - count 342\n",
            "\n",
            "> refine - count/sum_len: 2.1325\n",
            "> non-refine - count/sum_len: 1.9357\n",
            "\n",
            "> refine - count/cqBad: 0.0\n",
            "> non-refine - count/cqBad: 0.0\n",
            "\n",
            "> refine - count/cqFair: 0.0932\n",
            "> non-refine - count/cqFair: 0.0906\n",
            "\n",
            "> refine - count/cqGood: 0.0004\n",
            "> non-refine - count/cqGood: 0.9094\n",
            "\n",
            "> refine - count/caBad: 0.0807\n",
            "> non-refine - count/caBad: 0.038\n",
            "\n",
            "> refine - count/caFair: 0.855\n",
            "> non-refine - count/caFair: 0.7953\n",
            "\n",
            "> refine - count/caGood: 0.0643\n",
            "> non-refine - count/caGood: 0.1667\n",
            "\n"
          ]
        }
      ]
    },
    {
      "cell_type": "markdown",
      "source": [
        "### Query Classifier"
      ],
      "metadata": {
        "id": "eg-r3ZgyDNzr"
      }
    },
    {
      "cell_type": "code",
      "source": [
        "%%bash\n",
        "\n",
        "pip install --upgrade pip\n",
        "pip install git+https://github.com/deepset-ai/haystack.git#egg=farm-haystack[colab]\n",
        "\n",
        "# Install these to allow pipeline visualization\n",
        "apt install libgraphviz-dev\n",
        "pip install pygraphviz"
      ],
      "metadata": {
        "colab": {
          "base_uri": "https://localhost:8080/"
        },
        "id": "V7RoxMHji9sA",
        "outputId": "42ac950d-7ec6-4f3f-d809-a321c0e9da97"
      },
      "execution_count": null,
      "outputs": [
        {
          "output_type": "stream",
          "name": "stdout",
          "text": [
            "Looking in indexes: https://pypi.org/simple, https://us-python.pkg.dev/colab-wheels/public/simple/\n",
            "Requirement already satisfied: pip in /usr/local/lib/python3.8/dist-packages (22.0.4)\n",
            "Collecting pip\n",
            "  Downloading pip-23.0.1-py3-none-any.whl (2.1 MB)\n",
            "     ━━━━━━━━━━━━━━━━━━━━━━━━━━━━━━━━━━━━━━━━ 2.1/2.1 MB 14.8 MB/s eta 0:00:00\n",
            "Installing collected packages: pip\n",
            "  Attempting uninstall: pip\n",
            "    Found existing installation: pip 22.0.4\n",
            "    Uninstalling pip-22.0.4:\n",
            "      Successfully uninstalled pip-22.0.4\n",
            "Successfully installed pip-23.0.1\n",
            "Looking in indexes: https://pypi.org/simple, https://us-python.pkg.dev/colab-wheels/public/simple/\n",
            "Collecting farm-haystack[colab]\n",
            "  Cloning https://github.com/deepset-ai/haystack.git to /tmp/pip-install-dh_lonl6/farm-haystack_9697fe58d69442519efe1989bd39224c\n",
            "  Resolved https://github.com/deepset-ai/haystack.git to commit bde01cbf1f18660f2780c181919bc54aa3c90c58\n",
            "  Installing build dependencies: started\n",
            "  Installing build dependencies: finished with status 'done'\n",
            "  Getting requirements to build wheel: started\n",
            "  Getting requirements to build wheel: finished with status 'done'\n",
            "  Preparing metadata (pyproject.toml): started\n",
            "  Preparing metadata (pyproject.toml): finished with status 'done'\n",
            "Requirement already satisfied: more-itertools in /usr/local/lib/python3.8/dist-packages (from farm-haystack[colab]) (9.0.0)\n",
            "Requirement already satisfied: tenacity in /usr/local/lib/python3.8/dist-packages (from farm-haystack[colab]) (8.2.1)\n",
            "Requirement already satisfied: networkx in /usr/local/lib/python3.8/dist-packages (from farm-haystack[colab]) (3.0)\n",
            "Requirement already satisfied: protobuf<=3.20.2 in /usr/local/lib/python3.8/dist-packages (from farm-haystack[colab]) (3.19.6)\n",
            "Collecting azure-ai-formrecognizer>=3.2.0b2\n",
            "  Downloading azure_ai_formrecognizer-3.2.0-py3-none-any.whl (228 kB)\n",
            "     ━━━━━━━━━━━━━━━━━━━━━━━━━━━━━━━━━━━━━━━ 228.4/228.4 kB 5.1 MB/s eta 0:00:00\n",
            "Requirement already satisfied: requests in /usr/local/lib/python3.8/dist-packages (from farm-haystack[colab]) (2.25.1)\n",
            "Requirement already satisfied: dill in /usr/local/lib/python3.8/dist-packages (from farm-haystack[colab]) (0.3.6)\n",
            "Collecting posthog\n",
            "  Downloading posthog-2.3.1-py2.py3-none-any.whl (34 kB)\n",
            "Collecting elasticsearch<8,>=7.7\n",
            "  Downloading elasticsearch-7.17.9-py2.py3-none-any.whl (385 kB)\n",
            "     ━━━━━━━━━━━━━━━━━━━━━━━━━━━━━━━━━━━━━━ 386.0/386.0 kB 16.2 MB/s eta 0:00:00\n",
            "Collecting mmh3\n",
            "  Downloading mmh3-3.0.0-cp38-cp38-manylinux2010_x86_64.whl (50 kB)\n",
            "     ━━━━━━━━━━━━━━━━━━━━━━━━━━━━━━━━━━━━━━━━ 50.0/50.0 kB 4.9 MB/s eta 0:00:00\n",
            "Collecting sentence-transformers>=2.2.0\n",
            "  Downloading sentence-transformers-2.2.2.tar.gz (85 kB)\n",
            "     ━━━━━━━━━━━━━━━━━━━━━━━━━━━━━━━━━━━━━━━━ 86.0/86.0 kB 9.4 MB/s eta 0:00:00\n",
            "  Preparing metadata (setup.py): started\n",
            "  Preparing metadata (setup.py): finished with status 'done'\n",
            "Collecting seqeval\n",
            "  Downloading seqeval-1.2.2.tar.gz (43 kB)\n",
            "     ━━━━━━━━━━━━━━━━━━━━━━━━━━━━━━━━━━━━━━━━ 43.6/43.6 kB 4.4 MB/s eta 0:00:00\n",
            "  Preparing metadata (setup.py): started\n",
            "  Preparing metadata (setup.py): finished with status 'done'\n",
            "Requirement already satisfied: scipy>=1.3.2 in /usr/local/lib/python3.8/dist-packages (from farm-haystack[colab]) (1.7.3)\n",
            "Collecting huggingface-hub>=0.5.0\n",
            "  Downloading huggingface_hub-0.12.1-py3-none-any.whl (190 kB)\n",
            "     ━━━━━━━━━━━━━━━━━━━━━━━━━━━━━━━━━━━━━━ 190.3/190.3 kB 15.9 MB/s eta 0:00:00\n",
            "Collecting quantulum3\n",
            "  Downloading quantulum3-0.8.1-py3-none-any.whl (10.7 MB)\n",
            "     ━━━━━━━━━━━━━━━━━━━━━━━━━━━━━━━━━━━━━━━━ 10.7/10.7 MB 84.6 MB/s eta 0:00:00\n",
            "Requirement already satisfied: tqdm in /usr/local/lib/python3.8/dist-packages (from farm-haystack[colab]) (4.64.1)\n",
            "Requirement already satisfied: scikit-learn>=1.0.0 in /usr/local/lib/python3.8/dist-packages (from farm-haystack[colab]) (1.0.2)\n",
            "Requirement already satisfied: pydantic in /usr/local/lib/python3.8/dist-packages (from farm-haystack[colab]) (1.10.4)\n",
            "Collecting rank-bm25\n",
            "  Downloading rank_bm25-0.2.2-py3-none-any.whl (8.6 kB)\n",
            "Requirement already satisfied: jsonschema in /usr/local/lib/python3.8/dist-packages (from farm-haystack[colab]) (4.3.3)\n",
            "Collecting langdetect\n",
            "  Downloading langdetect-1.0.9.tar.gz (981 kB)\n",
            "     ━━━━━━━━━━━━━━━━━━━━━━━━━━━━━━━━━━━━━━ 981.5/981.5 kB 54.2 MB/s eta 0:00:00\n",
            "  Preparing metadata (setup.py): started\n",
            "  Preparing metadata (setup.py): finished with status 'done'\n",
            "Collecting tika\n",
            "  Downloading tika-2.6.0.tar.gz (27 kB)\n",
            "  Preparing metadata (setup.py): started\n",
            "  Preparing metadata (setup.py): finished with status 'done'\n",
            "Collecting rapidfuzz<2.8.0,>=2.0.15\n",
            "  Downloading rapidfuzz-2.7.0-cp38-cp38-manylinux_2_17_x86_64.manylinux2014_x86_64.whl (2.1 MB)\n",
            "     ━━━━━━━━━━━━━━━━━━━━━━━━━━━━━━━━━━━━━━━━ 2.1/2.1 MB 53.0 MB/s eta 0:00:00\n",
            "Collecting mlflow\n",
            "  Downloading mlflow-2.1.1-py3-none-any.whl (16.7 MB)\n",
            "     ━━━━━━━━━━━━━━━━━━━━━━━━━━━━━━━━━━━━━━━━ 16.7/16.7 MB 37.4 MB/s eta 0:00:00\n",
            "Requirement already satisfied: nltk in /usr/local/lib/python3.8/dist-packages (from farm-haystack[colab]) (3.7)\n",
            "Collecting tiktoken>=0.1.2\n",
            "  Downloading tiktoken-0.2.0-cp38-cp38-manylinux_2_17_x86_64.manylinux2014_x86_64.whl (1.6 MB)\n",
            "     ━━━━━━━━━━━━━━━━━━━━━━━━━━━━━━━━━━━━━━━━ 1.6/1.6 MB 47.4 MB/s eta 0:00:00\n",
            "Collecting transformers[torch]==4.25.1\n",
            "  Downloading transformers-4.25.1-py3-none-any.whl (5.8 MB)\n",
            "     ━━━━━━━━━━━━━━━━━━━━━━━━━━━━━━━━━━━━━━━━ 5.8/5.8 MB 66.1 MB/s eta 0:00:00\n",
            "Collecting python-docx\n",
            "  Downloading python-docx-0.8.11.tar.gz (5.6 MB)\n",
            "     ━━━━━━━━━━━━━━━━━━━━━━━━━━━━━━━━━━━━━━━━ 5.6/5.6 MB 62.4 MB/s eta 0:00:00\n",
            "  Preparing metadata (setup.py): started\n",
            "  Preparing metadata (setup.py): finished with status 'done'\n",
            "Requirement already satisfied: pandas in /usr/local/lib/python3.8/dist-packages (from farm-haystack[colab]) (1.3.5)\n",
            "Requirement already satisfied: pillow<=9.0.0 in /usr/local/lib/python3.8/dist-packages (from farm-haystack[colab]) (7.1.2)\n",
            "Requirement already satisfied: packaging>=20.0 in /usr/local/lib/python3.8/dist-packages (from transformers[torch]==4.25.1->farm-haystack[colab]) (23.0)\n",
            "Requirement already satisfied: numpy>=1.17 in /usr/local/lib/python3.8/dist-packages (from transformers[torch]==4.25.1->farm-haystack[colab]) (1.21.6)\n",
            "Requirement already satisfied: filelock in /usr/local/lib/python3.8/dist-packages (from transformers[torch]==4.25.1->farm-haystack[colab]) (3.9.0)\n",
            "Requirement already satisfied: regex!=2019.12.17 in /usr/local/lib/python3.8/dist-packages (from transformers[torch]==4.25.1->farm-haystack[colab]) (2022.6.2)\n",
            "Requirement already satisfied: pyyaml>=5.1 in /usr/local/lib/python3.8/dist-packages (from transformers[torch]==4.25.1->farm-haystack[colab]) (6.0)\n",
            "Collecting tokenizers!=0.11.3,<0.14,>=0.11.1\n",
            "  Downloading tokenizers-0.13.2-cp38-cp38-manylinux_2_17_x86_64.manylinux2014_x86_64.whl (7.6 MB)\n",
            "     ━━━━━━━━━━━━━━━━━━━━━━━━━━━━━━━━━━━━━━━━ 7.6/7.6 MB 67.1 MB/s eta 0:00:00\n",
            "Requirement already satisfied: torch!=1.12.0,>=1.7 in /usr/local/lib/python3.8/dist-packages (from transformers[torch]==4.25.1->farm-haystack[colab]) (1.13.1+cu116)\n",
            "Requirement already satisfied: typing-extensions>=4.0.1 in /usr/local/lib/python3.8/dist-packages (from azure-ai-formrecognizer>=3.2.0b2->farm-haystack[colab]) (4.5.0)\n",
            "Collecting msrest>=0.6.21\n",
            "  Downloading msrest-0.7.1-py3-none-any.whl (85 kB)\n",
            "     ━━━━━━━━━━━━━━━━━━━━━━━━━━━━━━━━━━━━━━━━ 85.4/85.4 kB 8.6 MB/s eta 0:00:00\n",
            "Collecting azure-common~=1.1\n",
            "  Downloading azure_common-1.1.28-py2.py3-none-any.whl (14 kB)\n",
            "Collecting azure-core<2.0.0,>=1.23.0\n",
            "  Downloading azure_core-1.26.3-py3-none-any.whl (174 kB)\n",
            "     ━━━━━━━━━━━━━━━━━━━━━━━━━━━━━━━━━━━━━━ 174.5/174.5 kB 16.9 MB/s eta 0:00:00\n",
            "Requirement already satisfied: urllib3<2,>=1.21.1 in /usr/local/lib/python3.8/dist-packages (from elasticsearch<8,>=7.7->farm-haystack[colab]) (1.24.3)\n",
            "Requirement already satisfied: certifi in /usr/local/lib/python3.8/dist-packages (from elasticsearch<8,>=7.7->farm-haystack[colab]) (2022.12.7)\n",
            "Collecting jarowinkler<2.0.0,>=1.2.0\n",
            "  Downloading jarowinkler-1.2.3-cp38-cp38-manylinux_2_17_x86_64.manylinux2014_x86_64.whl (114 kB)\n",
            "     ━━━━━━━━━━━━━━━━━━━━━━━━━━━━━━━━━━━━━━ 114.1/114.1 kB 10.4 MB/s eta 0:00:00\n",
            "Requirement already satisfied: joblib>=0.11 in /usr/local/lib/python3.8/dist-packages (from scikit-learn>=1.0.0->farm-haystack[colab]) (1.2.0)\n",
            "Requirement already satisfied: threadpoolctl>=2.0.0 in /usr/local/lib/python3.8/dist-packages (from scikit-learn>=1.0.0->farm-haystack[colab]) (3.1.0)\n",
            "Requirement already satisfied: torchvision in /usr/local/lib/python3.8/dist-packages (from sentence-transformers>=2.2.0->farm-haystack[colab]) (0.14.1+cu116)\n",
            "Collecting sentencepiece\n",
            "  Downloading sentencepiece-0.1.97-cp38-cp38-manylinux_2_17_x86_64.manylinux2014_x86_64.whl (1.3 MB)\n",
            "     ━━━━━━━━━━━━━━━━━━━━━━━━━━━━━━━━━━━━━━━━ 1.3/1.3 MB 53.8 MB/s eta 0:00:00\n",
            "Collecting blobfile>=2\n",
            "  Downloading blobfile-2.0.1-py3-none-any.whl (73 kB)\n",
            "     ━━━━━━━━━━━━━━━━━━━━━━━━━━━━━━━━━━━━━━━━ 73.5/73.5 kB 5.0 MB/s eta 0:00:00\n",
            "Collecting requests\n",
            "  Downloading requests-2.28.2-py3-none-any.whl (62 kB)\n",
            "     ━━━━━━━━━━━━━━━━━━━━━━━━━━━━━━━━━━━━━━━━ 62.8/62.8 kB 6.5 MB/s eta 0:00:00\n",
            "Requirement already satisfied: idna<4,>=2.5 in /usr/local/lib/python3.8/dist-packages (from requests->farm-haystack[colab]) (2.10)\n",
            "Requirement already satisfied: charset-normalizer<4,>=2 in /usr/local/lib/python3.8/dist-packages (from requests->farm-haystack[colab]) (3.0.1)\n",
            "Requirement already satisfied: attrs>=17.4.0 in /usr/local/lib/python3.8/dist-packages (from jsonschema->farm-haystack[colab]) (22.2.0)\n",
            "Requirement already satisfied: pyrsistent!=0.17.0,!=0.17.1,!=0.17.2,>=0.14.0 in /usr/local/lib/python3.8/dist-packages (from jsonschema->farm-haystack[colab]) (0.19.3)\n",
            "Requirement already satisfied: importlib-resources>=1.4.0 in /usr/local/lib/python3.8/dist-packages (from jsonschema->farm-haystack[colab]) (5.10.2)\n",
            "Requirement already satisfied: six in /usr/local/lib/python3.8/dist-packages (from langdetect->farm-haystack[colab]) (1.15.0)\n",
            "Requirement already satisfied: pytz<2023 in /usr/local/lib/python3.8/dist-packages (from mlflow->farm-haystack[colab]) (2022.7.1)\n",
            "Collecting shap<1,>=0.40\n",
            "  Downloading shap-0.41.0-cp38-cp38-manylinux_2_12_x86_64.manylinux2010_x86_64.whl (575 kB)\n",
            "     ━━━━━━━━━━━━━━━━━━━━━━━━━━━━━━━━━━━━━━ 575.9/575.9 kB 28.8 MB/s eta 0:00:00\n",
            "Requirement already satisfied: sqlparse<1,>=0.4.0 in /usr/local/lib/python3.8/dist-packages (from mlflow->farm-haystack[colab]) (0.4.3)\n",
            "Requirement already satisfied: sqlalchemy<2,>=1.4.0 in /usr/local/lib/python3.8/dist-packages (from mlflow->farm-haystack[colab]) (1.4.46)\n",
            "Requirement already satisfied: Jinja2<4,>=2.11 in /usr/local/lib/python3.8/dist-packages (from mlflow->farm-haystack[colab]) (2.11.3)\n",
            "Collecting gunicorn<21\n",
            "  Downloading gunicorn-20.1.0-py3-none-any.whl (79 kB)\n",
            "     ━━━━━━━━━━━━━━━━━━━━━━━━━━━━━━━━━━━━━━━━ 79.5/79.5 kB 8.4 MB/s eta 0:00:00\n",
            "Requirement already satisfied: cloudpickle<3 in /usr/local/lib/python3.8/dist-packages (from mlflow->farm-haystack[colab]) (2.2.1)\n",
            "Requirement already satisfied: matplotlib<4 in /usr/local/lib/python3.8/dist-packages (from mlflow->farm-haystack[colab]) (3.2.2)\n",
            "Requirement already satisfied: click<9,>=7.0 in /usr/local/lib/python3.8/dist-packages (from mlflow->farm-haystack[colab]) (7.1.2)\n",
            "Collecting gitpython<4,>=2.1.0\n",
            "  Downloading GitPython-3.1.31-py3-none-any.whl (184 kB)\n",
            "     ━━━━━━━━━━━━━━━━━━━━━━━━━━━━━━━━━━━━━━ 184.3/184.3 kB 15.8 MB/s eta 0:00:00\n",
            "Collecting querystring-parser<2\n",
            "  Downloading querystring_parser-1.2.4-py2.py3-none-any.whl (7.9 kB)\n",
            "Requirement already satisfied: Flask<3 in /usr/local/lib/python3.8/dist-packages (from mlflow->farm-haystack[colab]) (1.1.4)\n",
            "Requirement already satisfied: entrypoints<1 in /usr/local/lib/python3.8/dist-packages (from mlflow->farm-haystack[colab]) (0.4)\n",
            "Collecting alembic<2\n",
            "  Downloading alembic-1.9.4-py3-none-any.whl (210 kB)\n",
            "     ━━━━━━━━━━━━━━━━━━━━━━━━━━━━━━━━━━━━━━ 210.5/210.5 kB 18.8 MB/s eta 0:00:00\n",
            "Requirement already satisfied: markdown<4,>=3.3 in /usr/local/lib/python3.8/dist-packages (from mlflow->farm-haystack[colab]) (3.4.1)\n",
            "Collecting docker<7,>=4.0.0\n",
            "  Downloading docker-6.0.1-py3-none-any.whl (147 kB)\n",
            "     ━━━━━━━━━━━━━━━━━━━━━━━━━━━━━━━━━━━━━━ 147.5/147.5 kB 14.5 MB/s eta 0:00:00\n",
            "Collecting databricks-cli<1,>=0.8.7\n",
            "  Downloading databricks-cli-0.17.4.tar.gz (82 kB)\n",
            "     ━━━━━━━━━━━━━━━━━━━━━━━━━━━━━━━━━━━━━━━━ 82.3/82.3 kB 9.0 MB/s eta 0:00:00\n",
            "  Preparing metadata (setup.py): started\n",
            "  Preparing metadata (setup.py): finished with status 'done'\n",
            "Requirement already satisfied: pyarrow<11,>=4.0.0 in /usr/local/lib/python3.8/dist-packages (from mlflow->farm-haystack[colab]) (9.0.0)\n",
            "Collecting packaging>=20.0\n",
            "  Downloading packaging-22.0-py3-none-any.whl (42 kB)\n",
            "     ━━━━━━━━━━━━━━━━━━━━━━━━━━━━━━━━━━━━━━━━ 42.6/42.6 kB 3.4 MB/s eta 0:00:00\n",
            "Collecting importlib-metadata!=4.7.0,<6,>=3.7.0\n",
            "  Downloading importlib_metadata-5.2.0-py3-none-any.whl (21 kB)\n",
            "Requirement already satisfied: python-dateutil>=2.7.3 in /usr/local/lib/python3.8/dist-packages (from pandas->farm-haystack[colab]) (2.8.2)\n",
            "Collecting backoff>=1.10.0\n",
            "  Downloading backoff-2.2.1-py3-none-any.whl (15 kB)\n",
            "Collecting monotonic>=1.5\n",
            "  Downloading monotonic-1.6-py2.py3-none-any.whl (8.2 kB)\n",
            "Requirement already satisfied: lxml>=2.3.2 in /usr/local/lib/python3.8/dist-packages (from python-docx->farm-haystack[colab]) (4.9.2)\n",
            "Collecting num2words\n",
            "  Downloading num2words-0.5.12-py3-none-any.whl (125 kB)\n",
            "     ━━━━━━━━━━━━━━━━━━━━━━━━━━━━━━━━━━━━━━ 125.2/125.2 kB 12.1 MB/s eta 0:00:00\n",
            "Requirement already satisfied: inflect in /usr/local/lib/python3.8/dist-packages (from quantulum3->farm-haystack[colab]) (2.1.0)\n",
            "Requirement already satisfied: setuptools in /usr/local/lib/python3.8/dist-packages (from tika->farm-haystack[colab]) (57.4.0)\n",
            "Collecting Mako\n",
            "  Downloading Mako-1.2.4-py3-none-any.whl (78 kB)\n",
            "     ━━━━━━━━━━━━━━━━━━━━━━━━━━━━━━━━━━━━━━━━ 78.7/78.7 kB 7.2 MB/s eta 0:00:00\n",
            "Collecting urllib3<2,>=1.21.1\n",
            "  Downloading urllib3-1.26.14-py2.py3-none-any.whl (140 kB)\n",
            "     ━━━━━━━━━━━━━━━━━━━━━━━━━━━━━━━━━━━━━━ 140.6/140.6 kB 13.6 MB/s eta 0:00:00\n",
            "Collecting pycryptodomex~=3.8\n",
            "  Downloading pycryptodomex-3.17-cp35-abi3-manylinux_2_17_x86_64.manylinux2014_x86_64.whl (2.1 MB)\n",
            "     ━━━━━━━━━━━━━━━━━━━━━━━━━━━━━━━━━━━━━━━━ 2.1/2.1 MB 44.0 MB/s eta 0:00:00\n",
            "Collecting pyjwt>=1.7.0\n",
            "  Downloading PyJWT-2.6.0-py3-none-any.whl (20 kB)\n",
            "Requirement already satisfied: oauthlib>=3.1.0 in /usr/local/lib/python3.8/dist-packages (from databricks-cli<1,>=0.8.7->mlflow->farm-haystack[colab]) (3.2.2)\n",
            "Requirement already satisfied: tabulate>=0.7.7 in /usr/local/lib/python3.8/dist-packages (from databricks-cli<1,>=0.8.7->mlflow->farm-haystack[colab]) (0.8.10)\n",
            "Collecting websocket-client>=0.32.0\n",
            "  Downloading websocket_client-1.5.1-py3-none-any.whl (55 kB)\n",
            "     ━━━━━━━━━━━━━━━━━━━━━━━━━━━━━━━━━━━━━━━━ 55.9/55.9 kB 6.6 MB/s eta 0:00:00\n",
            "Requirement already satisfied: Werkzeug<2.0,>=0.15 in /usr/local/lib/python3.8/dist-packages (from Flask<3->mlflow->farm-haystack[colab]) (1.0.1)\n",
            "Requirement already satisfied: itsdangerous<2.0,>=0.24 in /usr/local/lib/python3.8/dist-packages (from Flask<3->mlflow->farm-haystack[colab]) (1.1.0)\n",
            "Collecting gitdb<5,>=4.0.1\n",
            "  Downloading gitdb-4.0.10-py3-none-any.whl (62 kB)\n",
            "     ━━━━━━━━━━━━━━━━━━━━━━━━━━━━━━━━━━━━━━━━ 62.7/62.7 kB 6.5 MB/s eta 0:00:00\n",
            "Requirement already satisfied: zipp>=0.5 in /usr/local/lib/python3.8/dist-packages (from importlib-metadata!=4.7.0,<6,>=3.7.0->mlflow->farm-haystack[colab]) (3.13.0)\n",
            "Requirement already satisfied: MarkupSafe>=0.23 in /usr/local/lib/python3.8/dist-packages (from Jinja2<4,>=2.11->mlflow->farm-haystack[colab]) (2.0.1)\n",
            "Requirement already satisfied: kiwisolver>=1.0.1 in /usr/local/lib/python3.8/dist-packages (from matplotlib<4->mlflow->farm-haystack[colab]) (1.4.4)\n",
            "Requirement already satisfied: cycler>=0.10 in /usr/local/lib/python3.8/dist-packages (from matplotlib<4->mlflow->farm-haystack[colab]) (0.11.0)\n",
            "Requirement already satisfied: pyparsing!=2.0.4,!=2.1.2,!=2.1.6,>=2.0.1 in /usr/local/lib/python3.8/dist-packages (from matplotlib<4->mlflow->farm-haystack[colab]) (3.0.9)\n",
            "Requirement already satisfied: requests-oauthlib>=0.5.0 in /usr/local/lib/python3.8/dist-packages (from msrest>=0.6.21->azure-ai-formrecognizer>=3.2.0b2->farm-haystack[colab]) (1.3.1)\n",
            "Collecting isodate>=0.6.0\n",
            "  Downloading isodate-0.6.1-py2.py3-none-any.whl (41 kB)\n",
            "     ━━━━━━━━━━━━━━━━━━━━━━━━━━━━━━━━━━━━━━━━ 41.7/41.7 kB 3.8 MB/s eta 0:00:00\n",
            "Requirement already satisfied: numba in /usr/local/lib/python3.8/dist-packages (from shap<1,>=0.40->mlflow->farm-haystack[colab]) (0.56.4)\n",
            "Collecting slicer==0.0.7\n",
            "  Downloading slicer-0.0.7-py3-none-any.whl (14 kB)\n",
            "Requirement already satisfied: greenlet!=0.4.17 in /usr/local/lib/python3.8/dist-packages (from sqlalchemy<2,>=1.4.0->mlflow->farm-haystack[colab]) (2.0.2)\n",
            "Collecting docopt>=0.6.2\n",
            "  Downloading docopt-0.6.2.tar.gz (25 kB)\n",
            "  Preparing metadata (setup.py): started\n",
            "  Preparing metadata (setup.py): finished with status 'done'\n",
            "Collecting smmap<6,>=3.0.1\n",
            "  Downloading smmap-5.0.0-py3-none-any.whl (24 kB)\n",
            "Requirement already satisfied: llvmlite<0.40,>=0.39.0dev0 in /usr/local/lib/python3.8/dist-packages (from numba->shap<1,>=0.40->mlflow->farm-haystack[colab]) (0.39.1)\n",
            "Building wheels for collected packages: sentence-transformers, farm-haystack, langdetect, python-docx, seqeval, tika, databricks-cli, docopt\n",
            "  Building wheel for sentence-transformers (setup.py): started\n",
            "  Building wheel for sentence-transformers (setup.py): finished with status 'done'\n",
            "  Created wheel for sentence-transformers: filename=sentence_transformers-2.2.2-py3-none-any.whl size=125938 sha256=d7517da043ff1f28474a1b3e221f0bbadc355bce8595eae62088956f20ebab64\n",
            "  Stored in directory: /root/.cache/pip/wheels/5e/6f/8c/d88aec621f3f542d26fac0342bef5e693335d125f4e54aeffe\n",
            "  Building wheel for farm-haystack (pyproject.toml): started\n",
            "  Building wheel for farm-haystack (pyproject.toml): finished with status 'done'\n",
            "  Created wheel for farm-haystack: filename=farm_haystack-1.15.0rc0-py3-none-any.whl size=640064 sha256=c1c1006632e17f434125df3dfdadc358f251edad8cf243e40b9ffe902d8b749b\n",
            "  Stored in directory: /tmp/pip-ephem-wheel-cache-7qraeds_/wheels/97/0d/ae/77cde17929fbf66c8320f19b30789acfe52e2312bb1d125be1\n",
            "  Building wheel for langdetect (setup.py): started\n",
            "  Building wheel for langdetect (setup.py): finished with status 'done'\n",
            "  Created wheel for langdetect: filename=langdetect-1.0.9-py3-none-any.whl size=993242 sha256=01560e049b949ef1e5fde636db679d634c92f0afdc864dd3e2a0a39478f4fc42\n",
            "  Stored in directory: /root/.cache/pip/wheels/13/c7/b0/79f66658626032e78fc1a83103690ef6797d551cb22e56e734\n",
            "  Building wheel for python-docx (setup.py): started\n",
            "  Building wheel for python-docx (setup.py): finished with status 'done'\n",
            "  Created wheel for python-docx: filename=python_docx-0.8.11-py3-none-any.whl size=184505 sha256=a370c0c94d26098a8e59c1c959b8278078fc126b530f34c58f77a2d229579ef2\n",
            "  Stored in directory: /root/.cache/pip/wheels/32/b8/b2/c4c2b95765e615fe139b0b17b5ea7c0e1b6519b0a9ec8fb34d\n",
            "  Building wheel for seqeval (setup.py): started\n",
            "  Building wheel for seqeval (setup.py): finished with status 'done'\n",
            "  Created wheel for seqeval: filename=seqeval-1.2.2-py3-none-any.whl size=16179 sha256=15b04dc63382d6488c22cbbb27f8db99ec2f51bcfe9363d3b8c3d797c4faa949\n",
            "  Stored in directory: /root/.cache/pip/wheels/ad/5c/ba/05fa33fa5855777b7d686e843ec07452f22a66a138e290e732\n",
            "  Building wheel for tika (setup.py): started\n",
            "  Building wheel for tika (setup.py): finished with status 'done'\n",
            "  Created wheel for tika: filename=tika-2.6.0-py3-none-any.whl size=32642 sha256=8ec344d950dc3e6b1324bc08f090014a4fc7f622f80836cf645a28f8d03ab301\n",
            "  Stored in directory: /root/.cache/pip/wheels/02/bd/74/313abcb9271e041e30734880e6813385150dd93627e9659de5\n",
            "  Building wheel for databricks-cli (setup.py): started\n",
            "  Building wheel for databricks-cli (setup.py): finished with status 'done'\n",
            "  Created wheel for databricks-cli: filename=databricks_cli-0.17.4-py3-none-any.whl size=142894 sha256=bf76abec1581776b6a7b05fbb5a2c6e9ef134eeef0113e4b0b0d7de3df7d13b5\n",
            "  Stored in directory: /root/.cache/pip/wheels/48/7c/6e/4bf2c1748c7ecf994ca951591de81674ed6bf633e1e337d873\n",
            "  Building wheel for docopt (setup.py): started\n",
            "  Building wheel for docopt (setup.py): finished with status 'done'\n",
            "  Created wheel for docopt: filename=docopt-0.6.2-py2.py3-none-any.whl size=13723 sha256=0c4f110f19944405a8af9319829fb48828ff06dae31a34c1b139fd1f7cc5d8d7\n",
            "  Stored in directory: /root/.cache/pip/wheels/56/ea/58/ead137b087d9e326852a851351d1debf4ada529b6ac0ec4e8c\n",
            "Successfully built sentence-transformers farm-haystack langdetect python-docx seqeval tika databricks-cli docopt\n",
            "Installing collected packages: tokenizers, sentencepiece, monotonic, mmh3, docopt, azure-common, websocket-client, urllib3, smmap, slicer, rank-bm25, querystring-parser, python-docx, pyjwt, pycryptodomex, packaging, num2words, Mako, langdetect, jarowinkler, isodate, importlib-metadata, gunicorn, backoff, requests, rapidfuzz, quantulum3, gitdb, elasticsearch, blobfile, alembic, tiktoken, tika, shap, seqeval, posthog, huggingface-hub, gitpython, docker, databricks-cli, azure-core, transformers, msrest, mlflow, sentence-transformers, azure-ai-formrecognizer, farm-haystack\n",
            "  Attempting uninstall: urllib3\n",
            "    Found existing installation: urllib3 1.24.3\n",
            "    Uninstalling urllib3-1.24.3:\n",
            "      Successfully uninstalled urllib3-1.24.3\n",
            "  Attempting uninstall: packaging\n",
            "    Found existing installation: packaging 23.0\n",
            "    Uninstalling packaging-23.0:\n",
            "      Successfully uninstalled packaging-23.0\n",
            "  Attempting uninstall: importlib-metadata\n",
            "    Found existing installation: importlib-metadata 6.0.0\n",
            "    Uninstalling importlib-metadata-6.0.0:\n",
            "      Successfully uninstalled importlib-metadata-6.0.0\n",
            "  Attempting uninstall: requests\n",
            "    Found existing installation: requests 2.25.1\n",
            "    Uninstalling requests-2.25.1:\n",
            "      Successfully uninstalled requests-2.25.1\n",
            "Successfully installed Mako-1.2.4 alembic-1.9.4 azure-ai-formrecognizer-3.2.0 azure-common-1.1.28 azure-core-1.26.3 backoff-2.2.1 blobfile-2.0.1 databricks-cli-0.17.4 docker-6.0.1 docopt-0.6.2 elasticsearch-7.17.9 farm-haystack-1.15.0rc0 gitdb-4.0.10 gitpython-3.1.31 gunicorn-20.1.0 huggingface-hub-0.12.1 importlib-metadata-5.2.0 isodate-0.6.1 jarowinkler-1.2.3 langdetect-1.0.9 mlflow-2.1.1 mmh3-3.0.0 monotonic-1.6 msrest-0.7.1 num2words-0.5.12 packaging-22.0 posthog-2.3.1 pycryptodomex-3.17 pyjwt-2.6.0 python-docx-0.8.11 quantulum3-0.8.1 querystring-parser-1.2.4 rank-bm25-0.2.2 rapidfuzz-2.7.0 requests-2.28.2 sentence-transformers-2.2.2 sentencepiece-0.1.97 seqeval-1.2.2 shap-0.41.0 slicer-0.0.7 smmap-5.0.0 tika-2.6.0 tiktoken-0.2.0 tokenizers-0.13.2 transformers-4.25.1 urllib3-1.26.14 websocket-client-1.5.1\n",
            "Reading package lists...\n",
            "Building dependency tree...\n",
            "Reading state information...\n",
            "The following package was automatically installed and is no longer required:\n",
            "  libnvidia-common-510\n",
            "Use 'apt autoremove' to remove it.\n",
            "The following additional packages will be installed:\n",
            "  libgail-common libgail18 libgtk2.0-0 libgtk2.0-bin libgtk2.0-common\n",
            "  libgvc6-plugins-gtk libxdot4\n",
            "Suggested packages:\n",
            "  gvfs\n",
            "The following NEW packages will be installed:\n",
            "  libgail-common libgail18 libgraphviz-dev libgtk2.0-0 libgtk2.0-bin\n",
            "  libgtk2.0-common libgvc6-plugins-gtk libxdot4\n",
            "0 upgraded, 8 newly installed, 0 to remove and 21 not upgraded.\n",
            "Need to get 2,148 kB of archives.\n",
            "After this operation, 7,427 kB of additional disk space will be used.\n",
            "Get:1 http://archive.ubuntu.com/ubuntu focal/main amd64 libgtk2.0-common all 2.24.32-4ubuntu4 [126 kB]\n",
            "Get:2 http://archive.ubuntu.com/ubuntu focal/main amd64 libgtk2.0-0 amd64 2.24.32-4ubuntu4 [1,791 kB]\n",
            "Get:3 http://archive.ubuntu.com/ubuntu focal/main amd64 libgail18 amd64 2.24.32-4ubuntu4 [14.7 kB]\n",
            "Get:4 http://archive.ubuntu.com/ubuntu focal/main amd64 libgail-common amd64 2.24.32-4ubuntu4 [116 kB]\n",
            "Get:5 http://archive.ubuntu.com/ubuntu focal/universe amd64 libxdot4 amd64 2.42.2-3build2 [15.4 kB]\n",
            "Get:6 http://archive.ubuntu.com/ubuntu focal/universe amd64 libgvc6-plugins-gtk amd64 2.42.2-3build2 [20.6 kB]\n",
            "Get:7 http://archive.ubuntu.com/ubuntu focal/universe amd64 libgraphviz-dev amd64 2.42.2-3build2 [57.2 kB]\n",
            "Get:8 http://archive.ubuntu.com/ubuntu focal/main amd64 libgtk2.0-bin amd64 2.24.32-4ubuntu4 [7,728 B]\n",
            "Fetched 2,148 kB in 1s (2,090 kB/s)\n",
            "Selecting previously unselected package libgtk2.0-common.\r\n",
            "(Reading database ... \r(Reading database ... 5%\r(Reading database ... 10%\r(Reading database ... 15%\r(Reading database ... 20%\r(Reading database ... 25%\r(Reading database ... 30%\r(Reading database ... 35%\r(Reading database ... 40%\r(Reading database ... 45%\r(Reading database ... 50%\r(Reading database ... 55%\r(Reading database ... 60%\r(Reading database ... 65%\r(Reading database ... 70%\r(Reading database ... 75%\r(Reading database ... 80%\r(Reading database ... 85%\r(Reading database ... 90%\r(Reading database ... 95%\r(Reading database ... 100%\r(Reading database ... 128126 files and directories currently installed.)\r\n",
            "Preparing to unpack .../0-libgtk2.0-common_2.24.32-4ubuntu4_all.deb ...\r\n",
            "Unpacking libgtk2.0-common (2.24.32-4ubuntu4) ...\r\n",
            "Selecting previously unselected package libgtk2.0-0:amd64.\r\n",
            "Preparing to unpack .../1-libgtk2.0-0_2.24.32-4ubuntu4_amd64.deb ...\r\n",
            "Unpacking libgtk2.0-0:amd64 (2.24.32-4ubuntu4) ...\r\n",
            "Selecting previously unselected package libgail18:amd64.\r\n",
            "Preparing to unpack .../2-libgail18_2.24.32-4ubuntu4_amd64.deb ...\r\n",
            "Unpacking libgail18:amd64 (2.24.32-4ubuntu4) ...\r\n",
            "Selecting previously unselected package libgail-common:amd64.\r\n",
            "Preparing to unpack .../3-libgail-common_2.24.32-4ubuntu4_amd64.deb ...\r\n",
            "Unpacking libgail-common:amd64 (2.24.32-4ubuntu4) ...\r\n",
            "Selecting previously unselected package libxdot4:amd64.\r\n",
            "Preparing to unpack .../4-libxdot4_2.42.2-3build2_amd64.deb ...\r\n",
            "Unpacking libxdot4:amd64 (2.42.2-3build2) ...\r\n",
            "Selecting previously unselected package libgvc6-plugins-gtk.\r\n",
            "Preparing to unpack .../5-libgvc6-plugins-gtk_2.42.2-3build2_amd64.deb ...\r\n",
            "Unpacking libgvc6-plugins-gtk (2.42.2-3build2) ...\r\n",
            "Selecting previously unselected package libgraphviz-dev:amd64.\r\n",
            "Preparing to unpack .../6-libgraphviz-dev_2.42.2-3build2_amd64.deb ...\r\n",
            "Unpacking libgraphviz-dev:amd64 (2.42.2-3build2) ...\r\n",
            "Selecting previously unselected package libgtk2.0-bin.\r\n",
            "Preparing to unpack .../7-libgtk2.0-bin_2.24.32-4ubuntu4_amd64.deb ...\r\n",
            "Unpacking libgtk2.0-bin (2.24.32-4ubuntu4) ...\r\n",
            "Setting up libxdot4:amd64 (2.42.2-3build2) ...\r\n",
            "Setting up libgtk2.0-common (2.24.32-4ubuntu4) ...\r\n",
            "Setting up libgtk2.0-0:amd64 (2.24.32-4ubuntu4) ...\r\n",
            "Setting up libgvc6-plugins-gtk (2.42.2-3build2) ...\r\n",
            "Setting up libgail18:amd64 (2.24.32-4ubuntu4) ...\r\n",
            "Setting up libgtk2.0-bin (2.24.32-4ubuntu4) ...\r\n",
            "Setting up libgail-common:amd64 (2.24.32-4ubuntu4) ...\r\n",
            "Setting up libgraphviz-dev:amd64 (2.42.2-3build2) ...\r\n",
            "Processing triggers for man-db (2.9.1-1) ...\r\n",
            "Processing triggers for libc-bin (2.31-0ubuntu9.9) ...\r\n",
            "Looking in indexes: https://pypi.org/simple, https://us-python.pkg.dev/colab-wheels/public/simple/\n",
            "Collecting pygraphviz\n",
            "  Downloading pygraphviz-1.10.zip (120 kB)\n",
            "     ━━━━━━━━━━━━━━━━━━━━━━━━━━━━━━━━━━━━━━━ 120.6/120.6 kB 3.8 MB/s eta 0:00:00\n",
            "  Preparing metadata (setup.py): started\n",
            "  Preparing metadata (setup.py): finished with status 'done'\n",
            "Building wheels for collected packages: pygraphviz\n",
            "  Building wheel for pygraphviz (setup.py): started\n",
            "  Building wheel for pygraphviz (setup.py): finished with status 'done'\n",
            "  Created wheel for pygraphviz: filename=pygraphviz-1.10-cp38-cp38-linux_x86_64.whl size=184581 sha256=32f4064105068029d97e35e573fd95758957fb5118645ee600f25a9be238cb49\n",
            "  Stored in directory: /root/.cache/pip/wheels/ac/bd/46/118c2a336c6fd8d47026854302f8fad63bb7e431e52008ea06\n",
            "Successfully built pygraphviz\n",
            "Installing collected packages: pygraphviz\n",
            "Successfully installed pygraphviz-1.10\n"
          ]
        },
        {
          "output_type": "stream",
          "name": "stderr",
          "text": [
            "DEPRECATION: git+https://github.com/deepset-ai/haystack.git#egg=farm-haystack[colab] contains an egg fragment with a non-PEP 508 name pip 25.0 will enforce this behaviour change. A possible replacement is to use the req @ url syntax, and remove the egg fragment. Discussion can be found at https://github.com/pypa/pip/issues/11617\n",
            "  Running command git clone --filter=blob:none --quiet https://github.com/deepset-ai/haystack.git /tmp/pip-install-dh_lonl6/farm-haystack_9697fe58d69442519efe1989bd39224c\n",
            "WARNING: Running pip as the 'root' user can result in broken permissions and conflicting behaviour with the system package manager. It is recommended to use a virtual environment instead: https://pip.pypa.io/warnings/venv\n",
            "\n",
            "WARNING: apt does not have a stable CLI interface. Use with caution in scripts.\n",
            "\n",
            "WARNING: Running pip as the 'root' user can result in broken permissions and conflicting behaviour with the system package manager. It is recommended to use a virtual environment instead: https://pip.pypa.io/warnings/venv\n"
          ]
        }
      ]
    },
    {
      "cell_type": "code",
      "source": [
        "import logging\n",
        "\n",
        "logging.basicConfig(format=\"%(levelname)s - %(name)s -  %(message)s\", level=logging.WARNING)\n",
        "logging.getLogger(\"haystack\").setLevel(logging.INFO)"
      ],
      "metadata": {
        "id": "TNhChd49DSDx"
      },
      "execution_count": null,
      "outputs": []
    },
    {
      "cell_type": "code",
      "source": [
        "# Here we create the keyword vs question/statement query classifier\n",
        "from haystack.nodes import SklearnQueryClassifier\n",
        "keyword_classifier = SklearnQueryClassifier()"
      ],
      "metadata": {
        "colab": {
          "base_uri": "https://localhost:8080/"
        },
        "id": "MrQlEL8sDV_A",
        "outputId": "85111307-4973-4e83-af2f-2d38cd5da8b6"
      },
      "execution_count": null,
      "outputs": [
        {
          "output_type": "stream",
          "name": "stderr",
          "text": [
            "INFO:haystack.telemetry:Haystack sends anonymous usage data to understand the actual usage and steer dev efforts towards features that are most meaningful to users. You can opt-out at anytime by calling disable_telemetry() or by manually setting the environment variable  HAYSTACK_TELEMETRY_ENABLED as described for different operating systems on the documentation page. More information at https://docs.haystack.deepset.ai/docs/telemetry\n",
            "/usr/local/lib/python3.8/dist-packages/sklearn/base.py:329: UserWarning: Trying to unpickle estimator DummyClassifier from version 1.2.0 when using version 1.0.2. This might lead to breaking code or invalid results. Use at your own risk. For more info please refer to:\n",
            "https://scikit-learn.org/stable/modules/model_persistence.html#security-maintainability-limitations\n",
            "  warnings.warn(\n",
            "/usr/local/lib/python3.8/dist-packages/sklearn/base.py:329: UserWarning: Trying to unpickle estimator DecisionTreeRegressor from version 1.2.0 when using version 1.0.2. This might lead to breaking code or invalid results. Use at your own risk. For more info please refer to:\n",
            "https://scikit-learn.org/stable/modules/model_persistence.html#security-maintainability-limitations\n",
            "  warnings.warn(\n",
            "/usr/local/lib/python3.8/dist-packages/sklearn/base.py:329: UserWarning: Trying to unpickle estimator GradientBoostingClassifier from version 1.2.0 when using version 1.0.2. This might lead to breaking code or invalid results. Use at your own risk. For more info please refer to:\n",
            "https://scikit-learn.org/stable/modules/model_persistence.html#security-maintainability-limitations\n",
            "  warnings.warn(\n",
            "/usr/local/lib/python3.8/dist-packages/sklearn/base.py:329: UserWarning: Trying to unpickle estimator TfidfTransformer from version 1.2.0 when using version 1.0.2. This might lead to breaking code or invalid results. Use at your own risk. For more info please refer to:\n",
            "https://scikit-learn.org/stable/modules/model_persistence.html#security-maintainability-limitations\n",
            "  warnings.warn(\n",
            "/usr/local/lib/python3.8/dist-packages/sklearn/base.py:329: UserWarning: Trying to unpickle estimator TfidfVectorizer from version 1.2.0 when using version 1.0.2. This might lead to breaking code or invalid results. Use at your own risk. For more info please refer to:\n",
            "https://scikit-learn.org/stable/modules/model_persistence.html#security-maintainability-limitations\n",
            "  warnings.warn(\n"
          ]
        }
      ]
    },
    {
      "cell_type": "code",
      "source": [
        "# Here we create the question vs statement query classifier\n",
        "model_url = (\n",
        "    \"https://ext-models-haystack.s3.eu-central-1.amazonaws.com/gradboost_query_classifier_statements/model.pickle\"\n",
        ")\n",
        "vectorizer_url = (\n",
        "    \"https://ext-models-haystack.s3.eu-central-1.amazonaws.com/gradboost_query_classifier_statements/vectorizer.pickle\"\n",
        ")\n",
        "\n",
        "question_classifier = SklearnQueryClassifier(model_name_or_path=model_url, vectorizer_name_or_path=vectorizer_url)"
      ],
      "metadata": {
        "colab": {
          "base_uri": "https://localhost:8080/"
        },
        "id": "Wqhs0iFPxkt2",
        "outputId": "b4288176-12e5-4198-d0db-6676f3e57e74"
      },
      "execution_count": null,
      "outputs": [
        {
          "output_type": "stream",
          "name": "stderr",
          "text": [
            "/usr/local/lib/python3.8/dist-packages/sklearn/base.py:329: UserWarning: Trying to unpickle estimator DummyClassifier from version 0.24.1 when using version 1.0.2. This might lead to breaking code or invalid results. Use at your own risk. For more info please refer to:\n",
            "https://scikit-learn.org/stable/modules/model_persistence.html#security-maintainability-limitations\n",
            "  warnings.warn(\n",
            "/usr/local/lib/python3.8/dist-packages/sklearn/base.py:329: UserWarning: Trying to unpickle estimator DecisionTreeRegressor from version 0.24.1 when using version 1.0.2. This might lead to breaking code or invalid results. Use at your own risk. For more info please refer to:\n",
            "https://scikit-learn.org/stable/modules/model_persistence.html#security-maintainability-limitations\n",
            "  warnings.warn(\n",
            "/usr/local/lib/python3.8/dist-packages/sklearn/base.py:329: UserWarning: Trying to unpickle estimator GradientBoostingClassifier from version 0.24.1 when using version 1.0.2. This might lead to breaking code or invalid results. Use at your own risk. For more info please refer to:\n",
            "https://scikit-learn.org/stable/modules/model_persistence.html#security-maintainability-limitations\n",
            "  warnings.warn(\n",
            "/usr/local/lib/python3.8/dist-packages/sklearn/base.py:329: UserWarning: Trying to unpickle estimator TfidfTransformer from version 0.24.1 when using version 1.0.2. This might lead to breaking code or invalid results. Use at your own risk. For more info please refer to:\n",
            "https://scikit-learn.org/stable/modules/model_persistence.html#security-maintainability-limitations\n",
            "  warnings.warn(\n",
            "/usr/local/lib/python3.8/dist-packages/sklearn/base.py:329: UserWarning: Trying to unpickle estimator TfidfVectorizer from version 0.24.1 when using version 1.0.2. This might lead to breaking code or invalid results. Use at your own risk. For more info please refer to:\n",
            "https://scikit-learn.org/stable/modules/model_persistence.html#security-maintainability-limitations\n",
            "  warnings.warn(\n"
          ]
        }
      ]
    },
    {
      "cell_type": "code",
      "source": [
        "def add_query_class(query_type, cq_label, ca_label):\n",
        "\n",
        "  query_class[query_type]['count'] += 1\n",
        "  if not math.isnan(cq_label):\n",
        "    if cq_label == 0:\n",
        "      query_class[query_type]['cqBad'] += 1\n",
        "    elif cq_label == 1:\n",
        "      query_class[query_type]['cqFair'] += 1\n",
        "    elif cq_label == 2:\n",
        "      query_class[query_type]['cqGood'] += 1\n",
        "  #\n",
        "  if not math.isnan(ca_label):\n",
        "      if ca_label == 0:\n",
        "        query_class[query_type]['caBad'] += 1\n",
        "      elif ca_label == 1:\n",
        "        query_class[query_type]['caFair'] += 1\n",
        "      elif ca_label == 2:\n",
        "        query_class[query_type]['caGood'] += 1"
      ],
      "metadata": {
        "id": "KbQc59ENzxrR"
      },
      "execution_count": null,
      "outputs": []
    },
    {
      "cell_type": "code",
      "source": [
        "query_class = dict()\n",
        "query_class['keyword'] = {'count': 0, 'cqBad': 0, 'cqFair': 0, 'cqGood': 0, 'caBad': 0, 'caFair': 0, 'caGood': 0}\n",
        "query_class['statement'] = {'count': 0, 'cqBad': 0, 'cqFair': 0, 'cqGood': 0, 'caBad': 0, 'caFair': 0, 'caGood': 0}\n",
        "query_class['question'] = {'count': 0, 'cqBad': 0, 'cqFair': 0, 'cqGood': 0, 'caBad': 0, 'caFair': 0, 'caGood': 0}\n",
        "\n",
        "for eachline in dataset_df.itertuples(index=True):\n",
        "    result = keyword_classifier.run(query=eachline.query)\n",
        "    if result[1] == \"output_1\":\n",
        "      # \"Question/Statement\"\n",
        "      result_QC = question_classifier.run(query=eachline.query)\n",
        "      if result_QC[1] == \"output_1\":\n",
        "        add_query_class('question', eachline.question_label, eachline.options_overall_label)\n",
        "      else:\n",
        "        add_query_class('statement', eachline.question_label, eachline.options_overall_label)\n",
        "    else:\n",
        "      add_query_class('keyword', eachline.question_label, eachline.options_overall_label)"
      ],
      "metadata": {
        "id": "Md6NbWePDaEb"
      },
      "execution_count": null,
      "outputs": []
    },
    {
      "cell_type": "code",
      "source": [
        "_normalizer(query_class)\n",
        "copied_query_class = count_remover(query_class)\n",
        "sorted_query_class = collections.OrderedDict(sorted(copied_query_class.items()))"
      ],
      "metadata": {
        "id": "rDUQ0ovzCtxR"
      },
      "execution_count": null,
      "outputs": []
    },
    {
      "cell_type": "code",
      "source": [
        "sorted_query_class_df = pd.DataFrame(sorted_query_class)\n",
        "sorted_query_class_df.loc[['cqBad', 'cqFair', 'cqGood']].plot(kind='bar', width=0.7)\n",
        "plt.legend(prop={'size': 16})\n",
        "locs, labels = plt.xticks()\n",
        "plt.xticks(locs, labels=['Bad', 'Fair', 'Good'], fontsize=16, rotation=0)\n",
        "plt.savefig(f'{DATASET}_query_class_to_labels.pdf', bbox_inches='tight', pad_inches=0)"
      ],
      "metadata": {
        "colab": {
          "base_uri": "https://localhost:8080/",
          "height": 273
        },
        "id": "XQabX015Cx7a",
        "outputId": "2e025ef3-b4ad-448c-bcc2-7364318cb15e"
      },
      "execution_count": null,
      "outputs": [
        {
          "output_type": "display_data",
          "data": {
            "text/plain": [
              "<Figure size 432x288 with 1 Axes>"
            ],
            "image/png": "[encoded data removed]"
          },
          "metadata": {}
        }
      ]
    },
    {
      "cell_type": "code",
      "source": [
        "\n",
        "\n",
        "# pd.DataFrame(sorted_query_class).plot(kind='bar', width=0.7)\n",
        "# # Put a legend to the right of the current axis\n",
        "# # plt.legend(loc='center left', bbox_to_anchor=(1, 0.5))\n",
        "# plt.savefig(f'{DATASET}_query_class_to_labels.pdf', bbox_inches='tight', pad_inches=0)"
      ],
      "metadata": {
        "colab": {
          "base_uri": "https://localhost:8080/",
          "height": 300
        },
        "id": "TfjskVSa1E-n",
        "outputId": "0a002f9c-381e-4d35-adc7-3912ffe4ce65"
      },
      "execution_count": null,
      "outputs": [
        {
          "output_type": "display_data",
          "data": {
            "text/plain": [
              "<Figure size 432x288 with 1 Axes>"
            ],
            "image/png": "[encoded data removed]"
          },
          "metadata": {}
        }
      ]
    },
    {
      "cell_type": "markdown",
      "source": [
        "### TextBlob Sentiment: Calculating Polarity (Sentiment) and Subjectivity\n",
        "https://planspace.org/20150607-textblob_sentiment/"
      ],
      "metadata": {
        "id": "EBgEECuDxfgA"
      }
    },
    {
      "cell_type": "code",
      "source": [
        "queries_polarity = []\n",
        "cq_polarity = []\n",
        "\n",
        "queries_subjectivity = []\n",
        "cq_subjectivity = []\n",
        "\n",
        "nonnan_dataset_df = dataset_df[~dataset_df['question_label'].isna()]\n",
        "\n",
        "for eachline in nonnan_dataset_df.itertuples(index=True):\n",
        "  queries_polarity.append(TextBlob(eachline.query).sentiment[0])\n",
        "  cq_polarity.append(TextBlob(eachline.question).sentiment[0])\n",
        "  queries_subjectivity.append(TextBlob(eachline.query).sentiment[1])\n",
        "  cq_subjectivity.append(TextBlob(eachline.question).sentiment[1])"
      ],
      "metadata": {
        "id": "nS4NQMIbxhEg"
      },
      "execution_count": null,
      "outputs": []
    },
    {
      "cell_type": "code",
      "source": [
        "# dataset_df.question_label[~dataset_df.question_label.isna()]\n",
        "nonnan_dataset_df.question_label"
      ],
      "metadata": {
        "colab": {
          "base_uri": "https://localhost:8080/"
        },
        "id": "ukkHA5O43hYK",
        "outputId": "be7ec39d-9619-4f0d-dd54-ed9da074df31"
      },
      "execution_count": null,
      "outputs": [
        {
          "output_type": "execute_result",
          "data": {
            "text/plain": [
              "720     1.0\n",
              "772     2.0\n",
              "775     2.0\n",
              "780     2.0\n",
              "781     2.0\n",
              "       ... \n",
              "2680    2.0\n",
              "2681    2.0\n",
              "2682    2.0\n",
              "2683    2.0\n",
              "2685    1.0\n",
              "Name: question_label, Length: 575, dtype: float64"
            ]
          },
          "metadata": {},
          "execution_count": 7
        }
      ]
    },
    {
      "cell_type": "code",
      "source": [
        "# subjectivity\n",
        "res = stats.pearsonr(queries_subjectivity, cq_subjectivity)\n",
        "print(res)\n",
        "# res = stats.pearsonr(queries_subjectivity, dataset_df.question_label[~dataset_df.question_label.isna()])\n",
        "res = stats.pearsonr(queries_subjectivity, nonnan_dataset_df.question_label)\n",
        "print(res)\n",
        "res = stats.pearsonr(nonnan_dataset_df.question_label, cq_subjectivity)\n",
        "print(res)"
      ],
      "metadata": {
        "colab": {
          "base_uri": "https://localhost:8080/"
        },
        "id": "qQbg7142xmgz",
        "outputId": "ce986dbc-8853-4c5e-8c2f-a15df7a27155"
      },
      "execution_count": null,
      "outputs": [
        {
          "output_type": "stream",
          "name": "stdout",
          "text": [
            "PearsonRResult(statistic=0.07007045659331715, pvalue=0.09322263147667989)\n",
            "PearsonRResult(statistic=-0.012323306425308257, pvalue=0.7680926827991115)\n",
            "PearsonRResult(statistic=0.3741760207626681, pvalue=1.5058036697072992e-20)\n"
          ]
        }
      ]
    },
    {
      "cell_type": "code",
      "source": [
        "subjectivity_corr = stats.pearsonr(nonnan_dataset_df.question_label, cq_subjectivity)[0]\n",
        "subjectivity_corr"
      ],
      "metadata": {
        "id": "iZ_OI4eU5JCV",
        "colab": {
          "base_uri": "https://localhost:8080/"
        },
        "outputId": "f381877b-4bcb-4e85-c423-ae1267230dff"
      },
      "execution_count": null,
      "outputs": [
        {
          "output_type": "execute_result",
          "data": {
            "text/plain": [
              "0.3741760207626681"
            ]
          },
          "metadata": {},
          "execution_count": 10
        }
      ]
    },
    {
      "cell_type": "code",
      "source": [
        "# ploarity\n",
        "res = stats.pearsonr(queries_polarity, cq_subjectivity)\n",
        "print(res)\n",
        "res = stats.pearsonr(queries_polarity, nonnan_dataset_df.question_label)\n",
        "print(res)\n",
        "res = stats.pearsonr(nonnan_dataset_df.question_label, cq_polarity)\n",
        "print(res)"
      ],
      "metadata": {
        "colab": {
          "base_uri": "https://localhost:8080/"
        },
        "id": "Jn_csE0V1jto",
        "outputId": "74af6791-bcb9-4fdd-f285-2ede1a87989c"
      },
      "execution_count": null,
      "outputs": [
        {
          "output_type": "stream",
          "name": "stdout",
          "text": [
            "PearsonRResult(statistic=0.03850251528686946, pvalue=0.35674219545923835)\n",
            "PearsonRResult(statistic=-0.048278242652514555, pvalue=0.24775215393303582)\n",
            "PearsonRResult(statistic=-0.28115485187341616, pvalue=6.595164405106558e-12)\n"
          ]
        }
      ]
    },
    {
      "cell_type": "code",
      "source": [
        "polarity_corr = stats.pearsonr(nonnan_dataset_df.question_label, cq_polarity)[0]\n",
        "polarity_corr"
      ],
      "metadata": {
        "id": "TN4mFnAY5R8Y",
        "colab": {
          "base_uri": "https://localhost:8080/"
        },
        "outputId": "edc543c2-c406-403f-c499-874fc0807b6b"
      },
      "execution_count": null,
      "outputs": [
        {
          "output_type": "execute_result",
          "data": {
            "text/plain": [
              "-0.28115485187341616"
            ]
          },
          "metadata": {},
          "execution_count": 12
        }
      ]
    },
    {
      "cell_type": "code",
      "source": [
        "import matplotlib.pyplot as plt\n",
        "import seaborn as sns\n",
        "sns.set_theme()\n",
        "import numpy as np\n",
        "\n",
        "metrics = ['rouge-precision', 'rouge-recall', 'polarity', 'subjectivity', 'specifity']\n",
        "values_1 = [rouge_precision_corr, polarity_corr, rouge_recall_corr, subjectivity_corr, -0.15]\n",
        "\n",
        "X_axis = np.arange(len(metrics))\n",
        "  \n",
        "plt.bar(X_axis, values_1, linestyle='--', width=0.1)\n",
        "\n",
        "plt.xticks(fontsize=18, rotation=20)\n",
        "plt.xticks(X_axis, metrics)\n",
        "\n",
        "plt.savefig('corr_featuers.pdf', bbox_inches='tight')"
      ],
      "metadata": {
        "colab": {
          "base_uri": "https://localhost:8080/",
          "height": 325
        },
        "id": "l2Bt6TqX19q7",
        "outputId": "223ecb6d-773c-4eb4-e62d-914812a61038"
      },
      "execution_count": null,
      "outputs": [
        {
          "output_type": "display_data",
          "data": {
            "text/plain": [
              "<Figure size 432x288 with 1 Axes>"
            ],
            "image/png": "[encoded data removed]"
          },
          "metadata": {}
        }
      ]
    },
    {
      "cell_type": "code",
      "source": [],
      "metadata": {
        "colab": {
          "base_uri": "https://localhost:8080/"
        },
        "id": "m6rJFzCJ5nnk",
        "outputId": "e9882f7d-3438-42ad-8a12-41bee4704054"
      },
      "execution_count": null,
      "outputs": [
        {
          "output_type": "execute_result",
          "data": {
            "text/plain": [
              "-0.0024575611466291017"
            ]
          },
          "metadata": {},
          "execution_count": 47
        }
      ]
    },
    {
      "cell_type": "markdown",
      "source": [
        "## Feature Extraction"
      ],
      "metadata": {
        "id": "9A-LqOchXBS4"
      }
    },
    {
      "cell_type": "code",
      "source": [
        "# clarification question template types via one-hot embeddings (e.g. [0,1,0,0,0]), question length, rouge_precisions, question subjectivity (possibly the sentiment as well)\n"
      ],
      "metadata": {
        "id": "aZ7WDcjsDIoy"
      },
      "execution_count": null,
      "outputs": []
    },
    {
      "cell_type": "code",
      "source": [
        "feature_data_df = pd.DataFrame(columns=['query', 'cq_vector', 'cq_length', 'rouge_precision', 'cq_polarity', 'cq_subjectivity'])\n",
        "rouge = Rouge()\n",
        "for eachline in dataset_df.itertuples(index=True):\n",
        "  cq = eachline.question\n",
        "  cq_length = len(eachline.question.split(' '))\n",
        "  eval = rouge.get_scores(eachline.query, eachline.question)\n",
        "  rouge_precision = eval[0]['rouge-2']['p']\n",
        "  cq_subjectivity = TextBlob(eachline.question).sentiment[1]\n",
        "  cq_polarity = TextBlob(eachline.question).sentiment[0]\n",
        "\n",
        "  # T0: Select one to refine your search\n",
        "  if bool(re.match(r'Select one to refine your search', cq)):\n",
        "    cq_vector = [1, 0, 0, 0, 0, 0, 0, 0, 0, 0]\n",
        "\n",
        "  # T1: What (would you like | do you want) to know about _____?\n",
        "  elif bool(re.match(r'What (would you like|do you want) to know about [a-z]+?', cq)):\n",
        "    cq_vector = [0, 1, 0, 0, 0, 0, 0, 0, 0, 0]\n",
        "\n",
        "  # T2: (Which | What) _____ do you mean?\n",
        "  elif bool(re.match(r'(Which|What) \"\"[a-z]+\"\" do you mean?', cq)):\n",
        "    cq_vector = [0, 0, 1, 0, 0, 0, 0, 0, 0, 0]\n",
        "\n",
        "  # T3: (Which | What) _____ are you looking for?\n",
        "  elif bool(re.match(r'(Which|What) [a-zA-Z ]+ are you looking for?', cq)):\n",
        "    cq_vector = [0, 0, 0, 1, 0, 0, 0, 0, 0, 0]\n",
        "\n",
        "  # T4: What (would you like | do you want) to do with _____?\n",
        "  elif bool(re.match(r'What (would you like|do you want) to do with [a-z]+?', cq)):\n",
        "    cq_vector = [0, 0, 0, 0, 1, 0, 0, 0, 0, 0]\n",
        "\n",
        "  # T5: Who are you shopping for?\n",
        "  elif bool(re.match(r'Who are you shopping for?', cq)):\n",
        "    cq_vector = [0, 0, 0, 0, 0, 1, 0, 0, 0, 0]\n",
        "\n",
        "  # T6: What are you trying to do?\n",
        "  elif bool(re.match(r'What are you trying to do?', cq)):\n",
        "    cq_vector = [0, 0, 0, 0, 0, 0, 1, 0, 0, 0]\n",
        "\n",
        "  # T7: Do you have _____ in mind?\n",
        "  elif bool(re.match(r'Do you have [a-z]+ in mind?', cq)):\n",
        "    cq_vector = [0, 0, 0, 0, 0, 0, 0, 1, 0, 0]\n",
        "\n",
        "  # T8: Refine your search by interest\n",
        "  elif bool(re.match(r'Do you have any specific product in mind?', cq)):\n",
        "    cq_vector = [0, 0, 0, 0, 0, 0, 0, 0, 1, 0]\n",
        "\n",
        "  # T9: else\n",
        "  else:\n",
        "    cq_vector = [0, 0, 0, 0, 0, 0, 0, 0, 0, 1]\n",
        "\n",
        "  feature_data_df = feature_data_df.append({'query': eachline.query, 'cq_vector': cq_vector, 'cq_length': cq_length, 'rouge_precision': rouge_precision, 'cq_polarity': cq_polarity, 'cq_subjectivity': cq_subjectivity}, ignore_index=True)"
      ],
      "metadata": {
        "id": "QckBQtPBI4sT"
      },
      "execution_count": null,
      "outputs": []
    },
    {
      "cell_type": "code",
      "source": [
        "feature_data_df.to_csv('feature_data.csv', index=False)"
      ],
      "metadata": {
        "id": "iIbzKtUjNS1n"
      },
      "execution_count": null,
      "outputs": []
    },
    {
      "cell_type": "code",
      "source": [
        "dataset_meta_info = dataset_df.merge(feature_data_df)"
      ],
      "metadata": {
        "id": "QcWXABPZN1mZ"
      },
      "execution_count": null,
      "outputs": []
    },
    {
      "cell_type": "code",
      "source": [
        "# This dataset will be used for evaluation of models for prediction with new features\n",
        "dataset_meta_info.to_csv('MIMICS-Manual-MetaInfo.csv', index=False)"
      ],
      "metadata": {
        "id": "ZrwsTjtpPKy-"
      },
      "execution_count": null,
      "outputs": []
    },
    {
      "cell_type": "markdown",
      "source": [
        "### User Study"
      ],
      "metadata": {
        "id": "LLj7p3ItruOm"
      }
    },
    {
      "cell_type": "code",
      "source": [
        "study_dataset_df = dataset_df[~dataset_df['question_label'].isna()]"
      ],
      "metadata": {
        "id": "MqC7zEiwtVfX"
      },
      "execution_count": null,
      "outputs": []
    },
    {
      "cell_type": "code",
      "source": [
        "sample_study_dataset_df = study_dataset_df.sample(50)"
      ],
      "metadata": {
        "id": "rHVq9PsluDNp"
      },
      "execution_count": null,
      "outputs": []
    },
    {
      "cell_type": "code",
      "source": [
        "user_study_df = pd.DataFrame(columns=['Query', 'Clarification Question', 'Option 1', 'Option 2', 'Option 3', 'Option 4', 'Option 5', 'Quesction Label', 'CQ Usefulness', 'Naturalness', 'Grammar', 'Fluency', 'Question Template', 'Coverage', 'Relevance', 'Novelty', 'Efficiency'])\n",
        "\n",
        "for eachline in sample_study_dataset_df.itertuples(index=True):\n",
        "  user_study_df = user_study_df.append({'Query': eachline.query, 'Clarification Question': eachline.question, 'Option 1': eachline.option_1,\n",
        "                                        'Option 2': eachline.option_2, 'Option 3': eachline.option_3, 'Option 4': eachline.option_4,\n",
        "                                        'Option 5': eachline.option_5, 'Quesction Label': eachline.question_label,\n",
        "                                        'CQ Usefulness': 0, 'Naturalness': 0, 'Grammar': 0, 'Fluency': 0, 'Question Template': 0,\n",
        "                                        'Coverage': 0, 'Relevance': 0, 'Novelty': 0, 'Efficiency': 0}, ignore_index=True)\n",
        "\n"
      ],
      "metadata": {
        "id": "4cZybTPrPU7T"
      },
      "execution_count": null,
      "outputs": []
    },
    {
      "cell_type": "code",
      "source": [
        "user_study_df.to_csv(\"online_user_study.csv\", index=False, sep='\\t')"
      ],
      "metadata": {
        "id": "5auzSj2CxIKw"
      },
      "execution_count": null,
      "outputs": []
    }
  ]
}